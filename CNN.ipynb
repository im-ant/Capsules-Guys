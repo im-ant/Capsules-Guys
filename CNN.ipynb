{
  "nbformat": 4,
  "nbformat_minor": 0,
  "metadata": {
    "colab": {
      "name": "CNN.ipynb",
      "version": "0.3.2",
      "provenance": [],
      "collapsed_sections": [],
      "toc_visible": true
    },
    "kernelspec": {
      "name": "python3",
      "display_name": "Python 3"
    },
    "accelerator": "GPU"
  },
  "cells": [
    {
      "metadata": {
        "id": "I2KRXS-b-a1h",
        "colab_type": "text"
      },
      "cell_type": "markdown",
      "source": [
        "# CNN for task performance comparison"
      ]
    },
    {
      "metadata": {
        "id": "Ze0V3byE-a1k",
        "colab_type": "text"
      },
      "cell_type": "markdown",
      "source": [
        "#### Unzip files"
      ]
    },
    {
      "metadata": {
        "id": "uQtdq33U-a1k",
        "colab_type": "code",
        "colab": {}
      },
      "cell_type": "code",
      "source": [
        "# unzip files\n",
        "import zipfile\n",
        "\n",
        "UNZIP_NAME = 'mnist.zip'\n",
        "\n",
        "zip_ref = zipfile.ZipFile(UNZIP_NAME, 'r')\n",
        "zip_ref.extractall('./')\n",
        "zip_ref.close()"
      ],
      "execution_count": 0,
      "outputs": []
    },
    {
      "metadata": {
        "id": "8oRZ6i_m-a1p",
        "colab_type": "text"
      },
      "cell_type": "markdown",
      "source": [
        "## Get data"
      ]
    },
    {
      "metadata": {
        "id": "X0jtlD3I-a1q",
        "colab_type": "code",
        "colab": {}
      },
      "cell_type": "code",
      "source": [
        "import numpy as np\n",
        "import matplotlib.pyplot as plt"
      ],
      "execution_count": 0,
      "outputs": []
    },
    {
      "metadata": {
        "id": "7-xJ54I5-a1x",
        "colab_type": "text"
      },
      "cell_type": "markdown",
      "source": [
        "#### Import data"
      ]
    },
    {
      "metadata": {
        "id": "LX9ChFfv-a1y",
        "colab_type": "code",
        "colab": {
          "base_uri": "https://localhost:8080/",
          "height": 34
        },
        "outputId": "29836807-dd23-41b4-a9fc-4aecceb0dd26"
      },
      "cell_type": "code",
      "source": [
        "#DATA_PATH = '/Users/anthony/Documents/Comp551_Projects/CapNET/data/mnistData.npz'\n",
        "DATA_PATH = 'mnistData.npz'\n",
        "\n",
        "npzfile = np.load(DATA_PATH)\n",
        "npzfile.files"
      ],
      "execution_count": 5,
      "outputs": [
        {
          "output_type": "execute_result",
          "data": {
            "text/plain": [
              "['X_train', 'y_train', 'X_test', 'y_test']"
            ]
          },
          "metadata": {
            "tags": []
          },
          "execution_count": 5
        }
      ]
    },
    {
      "metadata": {
        "id": "JQNvsI7H-a14",
        "colab_type": "text"
      },
      "cell_type": "markdown",
      "source": [
        "#### Unpack - take subset? "
      ]
    },
    {
      "metadata": {
        "id": "UzZc1Ap9-a15",
        "colab_type": "code",
        "colab": {
          "base_uri": "https://localhost:8080/",
          "height": 85
        },
        "outputId": "f5a1294e-21a0-434b-e63b-84107261288d"
      },
      "cell_type": "code",
      "source": [
        "TAKE_SUBSET = True\n",
        "SUBSET_SIZE = 3000\n",
        "\n",
        "# Unpack the training and testing datasets\n",
        "X_train, y_train = npzfile['X_train'], npzfile['y_train']\n",
        "X_test, y_test = npzfile['X_test'], npzfile['y_test']\n",
        "\n",
        "# Take subset\n",
        "if TAKE_SUBSET:\n",
        "    X_train = X_train[0:SUBSET_SIZE]\n",
        "    y_train = y_train[0:SUBSET_SIZE]\n",
        "    \n",
        "# Expand the dimension of images to signal greyscale\n",
        "X_train = np.expand_dims(X_train, axis=3)\n",
        "X_test = np.expand_dims(X_test, axis=3)\n",
        "\n",
        "print(np.shape(X_train))\n",
        "print(np.shape(y_train))\n",
        "print(np.shape(X_test))\n",
        "print(np.shape(y_test))"
      ],
      "execution_count": 6,
      "outputs": [
        {
          "output_type": "stream",
          "text": [
            "(3000, 28, 28, 1)\n",
            "(3000, 10)\n",
            "(10000, 28, 28, 1)\n",
            "(10000, 10)\n"
          ],
          "name": "stdout"
        }
      ]
    },
    {
      "metadata": {
        "id": "pU1iPeIN-a2E",
        "colab_type": "text"
      },
      "cell_type": "markdown",
      "source": [
        "## Set up convolutional net"
      ]
    },
    {
      "metadata": {
        "id": "gXFlru-M-a2G",
        "colab_type": "code",
        "colab": {
          "base_uri": "https://localhost:8080/",
          "height": 34
        },
        "outputId": "f6ebfc73-aea1-491f-9e83-27e449758446"
      },
      "cell_type": "code",
      "source": [
        "from keras.models import Sequential, Model\n",
        "from keras.layers import Dense, Conv2D, Flatten, Input"
      ],
      "execution_count": 7,
      "outputs": [
        {
          "output_type": "stream",
          "text": [
            "Using TensorFlow backend.\n"
          ],
          "name": "stderr"
        }
      ]
    },
    {
      "metadata": {
        "id": "Qt_eECwr-a2I",
        "colab_type": "text"
      },
      "cell_type": "markdown",
      "source": [
        "### Define model(s)"
      ]
    },
    {
      "metadata": {
        "id": "y_E3IFQR-a2J",
        "colab_type": "code",
        "colab": {}
      },
      "cell_type": "code",
      "source": [
        "def basic_CNN():\n",
        "    # Input layer\n",
        "    x = Input(shape=(28,28,1))\n",
        "    \n",
        "    # First convolution\n",
        "    conv1 = Conv2D(filters=256, kernel_size=9, strides=1,\\\n",
        "                          padding='valid', activation='relu')(x)\n",
        "    \n",
        "    # Second convolution (32 capsules * 8 dimensions: 256 individual filters equivalency )\n",
        "    conv2 = Conv2D(filters=256, kernel_size=9, strides=2,\\\n",
        "                          padding='valid', activation='relu')(conv1)\n",
        "    \n",
        "    # Flatten\n",
        "    flat = Flatten()(conv2)\n",
        "    \n",
        "    # Dense layer (10 capsules * 16 dimensions: 160 fully connected equivalency)\n",
        "    fc1 = Dense(units=160, activation='relu')(flat)\n",
        "    \n",
        "    # Output layer\n",
        "    fc2 = Dense(10, activation='softmax')(fc1)    \n",
        "    \n",
        "    # Compile model\n",
        "    model = Model(x, fc2)\n",
        "    model.compile(optimizer='adam', loss='categorical_crossentropy', metrics=['accuracy'])\n",
        "    \n",
        "    return model\n",
        "    \n",
        "    "
      ],
      "execution_count": 0,
      "outputs": []
    },
    {
      "metadata": {
        "id": "ysu0v-Ad-a2M",
        "colab_type": "code",
        "colab": {
          "base_uri": "https://localhost:8080/",
          "height": 340
        },
        "outputId": "52cab093-49a1-4b2a-97cb-178b843ee148"
      },
      "cell_type": "code",
      "source": [
        "model = basic_CNN()\n",
        "model.summary()\n",
        "\n",
        "## TODO: compare the number of parameters"
      ],
      "execution_count": 14,
      "outputs": [
        {
          "output_type": "stream",
          "text": [
            "_________________________________________________________________\n",
            "Layer (type)                 Output Shape              Param #   \n",
            "=================================================================\n",
            "input_3 (InputLayer)         (None, 28, 28, 1)         0         \n",
            "_________________________________________________________________\n",
            "conv2d_5 (Conv2D)            (None, 20, 20, 256)       20992     \n",
            "_________________________________________________________________\n",
            "conv2d_6 (Conv2D)            (None, 6, 6, 256)         5308672   \n",
            "_________________________________________________________________\n",
            "flatten_3 (Flatten)          (None, 9216)              0         \n",
            "_________________________________________________________________\n",
            "dense_5 (Dense)              (None, 160)               1474720   \n",
            "_________________________________________________________________\n",
            "dense_6 (Dense)              (None, 10)                1610      \n",
            "=================================================================\n",
            "Total params: 6,805,994\n",
            "Trainable params: 6,805,994\n",
            "Non-trainable params: 0\n",
            "_________________________________________________________________\n"
          ],
          "name": "stdout"
        }
      ]
    },
    {
      "metadata": {
        "id": "viWLRNX_-a2c",
        "colab_type": "text"
      },
      "cell_type": "markdown",
      "source": [
        "### Train model"
      ]
    },
    {
      "metadata": {
        "id": "gNNbjbdk-a2c",
        "colab_type": "code",
        "colab": {
          "base_uri": "https://localhost:8080/",
          "height": 394
        },
        "outputId": "fd0dfc6a-e5b1-494c-df8d-d610249e16ad"
      },
      "cell_type": "code",
      "source": [
        "history = model.fit(X_train, y_train,\n",
        "                    epochs=10,\n",
        "                    batch_size=30,\n",
        "                    shuffle=True,\n",
        "                    validation_data=(X_test, y_test)\n",
        "                   )"
      ],
      "execution_count": 15,
      "outputs": [
        {
          "output_type": "stream",
          "text": [
            "Train on 3000 samples, validate on 10000 samples\n",
            "Epoch 1/10\n",
            "3000/3000 [==============================] - 9s 3ms/step - loss: 0.5252 - acc: 0.8407 - val_loss: 0.2417 - val_acc: 0.9226\n",
            "Epoch 2/10\n",
            "3000/3000 [==============================] - 9s 3ms/step - loss: 0.1381 - acc: 0.9613 - val_loss: 0.1537 - val_acc: 0.9530\n",
            "Epoch 3/10\n",
            "3000/3000 [==============================] - 9s 3ms/step - loss: 0.0856 - acc: 0.9733 - val_loss: 0.1408 - val_acc: 0.9566\n",
            "Epoch 4/10\n",
            "3000/3000 [==============================] - 9s 3ms/step - loss: 0.0596 - acc: 0.9807 - val_loss: 0.1093 - val_acc: 0.9682\n",
            "Epoch 5/10\n",
            "3000/3000 [==============================] - 9s 3ms/step - loss: 0.0390 - acc: 0.9857 - val_loss: 0.1349 - val_acc: 0.9639\n",
            "Epoch 6/10\n",
            "3000/3000 [==============================] - 9s 3ms/step - loss: 0.0318 - acc: 0.9927 - val_loss: 0.1608 - val_acc: 0.9519\n",
            "Epoch 7/10\n",
            "3000/3000 [==============================] - 9s 3ms/step - loss: 0.0128 - acc: 0.9970 - val_loss: 0.1422 - val_acc: 0.9631\n",
            "Epoch 8/10\n",
            "3000/3000 [==============================] - 9s 3ms/step - loss: 0.0260 - acc: 0.9927 - val_loss: 0.1335 - val_acc: 0.9698\n",
            "Epoch 9/10\n",
            "3000/3000 [==============================] - 9s 3ms/step - loss: 0.0350 - acc: 0.9887 - val_loss: 0.1343 - val_acc: 0.9655\n",
            "Epoch 10/10\n",
            "3000/3000 [==============================] - 9s 3ms/step - loss: 0.0147 - acc: 0.9950 - val_loss: 0.1398 - val_acc: 0.9676\n"
          ],
          "name": "stdout"
        }
      ]
    },
    {
      "metadata": {
        "id": "JpZzDDuT-a2k",
        "colab_type": "code",
        "colab": {
          "base_uri": "https://localhost:8080/",
          "height": 280
        },
        "outputId": "dd2fa7a0-a3d4-4b08-e446-43e24691b173"
      },
      "cell_type": "code",
      "source": [
        "# Plot history\n",
        "plt.figure(figsize=(15,4))\n",
        "\n",
        "plt.subplot(1,2,1)\n",
        "plt.plot(history.history['loss'])\n",
        "plt.plot(history.history['val_loss'])\n",
        "plt.title('Loss')\n",
        "plt.legend(['Training','Validation'])\n",
        "\n",
        "plt.subplot(1,2,2)\n",
        "plt.plot(history.history['acc'])\n",
        "plt.plot(history.history['val_acc'])\n",
        "plt.title('Accuracy')\n",
        "plt.legend(['Training','Validation'])\n",
        "\n",
        "plt.show()"
      ],
      "execution_count": 20,
      "outputs": [
        {
          "output_type": "display_data",
          "data": {
            "image/png": "[encoded data removed]",
            "text/plain": [
              "<matplotlib.figure.Figure at 0x7f067b102cc0>"
            ]
          },
          "metadata": {
            "tags": []
          }
        }
      ]
    },
    {
      "metadata": {
        "id": "WI6evtWwAmYS",
        "colab_type": "code",
        "colab": {}
      },
      "cell_type": "code",
      "source": [
        "#TODO: save the models"
      ],
      "execution_count": 0,
      "outputs": []
    }
  ]
}