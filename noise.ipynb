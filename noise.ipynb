{
 "cells": [
  {
   "cell_type": "code",
   "execution_count": 2,
   "metadata": {},
   "outputs": [
    {
     "name": "stderr",
     "output_type": "stream",
     "text": [
      "C:\\Users\\kabil\\Anaconda3\\lib\\site-packages\\h5py\\__init__.py:36: FutureWarning: Conversion of the second argument of issubdtype from `float` to `np.floating` is deprecated. In future, it will be treated as `np.float64 == np.dtype(float).type`.\n",
      "  from ._conv import register_converters as _register_converters\n",
      "Using TensorFlow backend.\n"
     ]
    }
   ],
   "source": [
    "import numpy as np\n",
    "import sklearn\n",
    "import keras\n",
    "import pandas as pd\n",
    "import matplotlib.pyplot as plt"
   ]
  },
  {
   "cell_type": "code",
   "execution_count": 114,
   "metadata": {},
   "outputs": [
    {
     "data": {
      "text/plain": [
       "['X_train', 'y_train', 'X_test', 'y_test']"
      ]
     },
     "execution_count": 114,
     "metadata": {},
     "output_type": "execute_result"
    }
   ],
   "source": [
    "# Indicate path to dataset\n",
    "DATA_PATH = 'mnistData.npz'\n",
    "#DATA_PATH = 'fashion_mnist_Data.npz'\n",
    "\n",
    "# Load files\n",
    "npzfile = np.load(DATA_PATH)\n",
    "npzfile.files"
   ]
  },
  {
   "cell_type": "code",
   "execution_count": 115,
   "metadata": {},
   "outputs": [
    {
     "name": "stdout",
     "output_type": "stream",
     "text": [
      "(60000, 28, 28)\n",
      "(60000, 10)\n",
      "(10000, 28, 28)\n",
      "(10000, 10)\n"
     ]
    }
   ],
   "source": [
    "X_train, y_train = npzfile['X_train'], npzfile['y_train']\n",
    "X_test, y_test = npzfile['X_test'], npzfile['y_test']\n",
    "\n",
    "print(np.shape(X_train))\n",
    "print(np.shape(y_train))\n",
    "print(np.shape(X_test))\n",
    "print(np.shape(y_test))"
   ]
  },
  {
   "cell_type": "code",
   "execution_count": 116,
   "metadata": {},
   "outputs": [
    {
     "data": {
      "image/png": "[encoded data removed]",
      "text/plain": [
       "<Figure size 1080x216 with 8 Axes>"
      ]
     },
     "metadata": {},
     "output_type": "display_data"
    }
   ],
   "source": [
    "N_2_SHOW = 8\n",
    "\n",
    "# Take a random set of indeces\n",
    "rng = np.random.RandomState(seed=42)\n",
    "imgIndeces = rng.randint(0, len(X_train), size=N_2_SHOW)\n",
    "\n",
    "# Show images\n",
    "plt.figure(figsize=(15,3))\n",
    "for i, imgIdx in enumerate(imgIndeces):\n",
    "    # get current image\n",
    "    curImg = X_train[imgIdx]\n",
    "    \n",
    "    # show image\n",
    "    plt.subplot(1,N_2_SHOW,(i+1))\n",
    "    plt.imshow(curImg, cmap='gray_r')\n",
    "\n",
    "plt.show()\n",
    "\n",
    "del N_2_SHOW, rng"
   ]
  },
  {
   "cell_type": "code",
   "execution_count": 117,
   "metadata": {},
   "outputs": [],
   "source": [
    "def noisify(img, scale=0.38):\n",
    "    noise = np.abs(np.random.normal(scale=scale, size=img.shape))\n",
    "    noisy_img = noise + img\n",
    "    noisy_img = noisy_img/(np.max(noisy_img))\n",
    "    return noisy_img"
   ]
  },
  {
   "cell_type": "code",
   "execution_count": 118,
   "metadata": {},
   "outputs": [],
   "source": [
    "def noisify_n(imgs, scale=0.38):\n",
    "    noisy_imgs = np.zeros(imgs.shape)\n",
    "    for i in range(noisy_imgs.shape[0]):\n",
    "        noisy_imgs[i] = noisify(imgs[i], scale=scale)\n",
    "    return noisy_imgs"
   ]
  },
  {
   "cell_type": "code",
   "execution_count": 119,
   "metadata": {},
   "outputs": [
    {
     "data": {
      "image/png": "[encoded data removed]",
      "text/plain": [
       "<Figure size 432x288 with 1 Axes>"
      ]
     },
     "metadata": {},
     "output_type": "display_data"
    }
   ],
   "source": [
    "plt.imshow(noisify(X_train[0]), cmap=\"gray_r\")\n",
    "plt.show()\n",
    "#noisify(X_train[0])"
   ]
  },
  {
   "cell_type": "code",
   "execution_count": 120,
   "metadata": {},
   "outputs": [
    {
     "data": {
      "image/png": "[encoded data removed]",
      "text/plain": [
       "<Figure size 432x288 with 1 Axes>"
      ]
     },
     "metadata": {},
     "output_type": "display_data"
    }
   ],
   "source": [
    "plt.imshow(noisify_n(X_train)[0], cmap=\"gray_r\")\n",
    "plt.show()"
   ]
  },
  {
   "cell_type": "code",
   "execution_count": 125,
   "metadata": {},
   "outputs": [],
   "source": [
    "noisy_X_train = noisify_n(X_train, scale=0.14)\n",
    "noisy_X_test = noisify_n(X_test, scale=0.14)\n",
    "noisy_data = {\"X_train\": noisy_X_train, \"y_train\": y_train, \"X_test\": noisy_X_test, \"y_test\": y_test}"
   ]
  },
  {
   "cell_type": "code",
   "execution_count": 126,
   "metadata": {},
   "outputs": [],
   "source": [
    "SAVE_PATH = \"mnist_noisy_Data_0_14.npz\"\n",
    "\n",
    "np.savez(SAVE_PATH, X_train=noisy_X_train, y_train=y_train, X_test=noisy_X_test, y_test=y_test)"
   ]
  },
  {
   "cell_type": "code",
   "execution_count": 3,
   "metadata": {},
   "outputs": [],
   "source": [
    "d1 = np.load(\"mnist_noisy_Data_0_38.npz\", encoding=\"ASCII\")\n",
    "d2 = np.load(\"mnist_noisy_Data_0_3.npz\", encoding=\"ASCII\")\n",
    "d3 = np.load(\"mnist_noisy_Data_0_22.npz\", encoding=\"ASCII\")\n",
    "d4 = np.load(\"mnist_noisy_Data_0_14.npz\", encoding=\"ASCII\")"
   ]
  },
  {
   "cell_type": "code",
   "execution_count": 6,
   "metadata": {},
   "outputs": [],
   "source": [
    "x1 = d1[\"X_test\"]\n",
    "x2 = d2[\"X_test\"]\n",
    "x3 = d3[\"X_test\"]\n",
    "x4 = d4[\"X_test\"]"
   ]
  },
  {
   "cell_type": "code",
   "execution_count": 7,
   "metadata": {},
   "outputs": [],
   "source": [
    "np.savez(\"mnist_noisy_Data_0_38_test.npz\", X_test=x1)\n",
    "np.savez(\"mnist_noisy_Data_0_3_test.npz\", X_test=x2)\n",
    "np.savez(\"mnist_noisy_Data_0_22_test.npz\", X_test=x3)\n",
    "np.savez(\"mnist_noisy_Data_0_14_test.npz\", X_test=x4)"
   ]
  },
  {
   "cell_type": "code",
   "execution_count": 4,
   "metadata": {},
   "outputs": [],
   "source": [
    "y1 = d1[\"y_test\"]\n",
    "y2 = d2[\"y_test\"]\n",
    "y3 = d3[\"y_test\"]\n",
    "y4 = d4[\"y_test\"]"
   ]
  },
  {
   "cell_type": "code",
   "execution_count": 5,
   "metadata": {},
   "outputs": [],
   "source": [
    "np.savez(\"mnist_noisy_Data_0_38_test_labels.npz\", y_test=y1)\n",
    "np.savez(\"mnist_noisy_Data_0_3_test_labels.npz\", y_test=y2)\n",
    "np.savez(\"mnist_noisy_Data_0_22_test_labels.npz\", y_test=y3)\n",
    "np.savez(\"mnist_noisy_Data_0_14_test_labels.npz\", y_test=y4)"
   ]
  },
  {
   "cell_type": "code",
   "execution_count": 9,
   "metadata": {},
   "outputs": [],
   "source": [
    "np.savez(\"mnist_noisy_Data_0_38_test_data.npz\", X_test=x1, y_test=y1)\n",
    "np.savez(\"mnist_noisy_Data_0_3_test_data.npz\", X_test=x2, y_test=y2)\n",
    "np.savez(\"mnist_noisy_Data_0_22_test_data.npz\", X_test=x3, y_test=y3)\n",
    "np.savez(\"mnist_noisy_Data_0_14_test_data.npz\", X_test=x4, y_test=y4)"
   ]
  },
  {
   "cell_type": "code",
   "execution_count": 158,
   "metadata": {},
   "outputs": [
    {
     "data": {
      "image/png": "[encoded data removed]",
      "text/plain": [
       "<Figure size 360x360 with 4 Axes>"
      ]
     },
     "metadata": {},
     "output_type": "display_data"
    }
   ],
   "source": [
    "fig = plt.figure(figsize=(5,5))\n",
    "plt.subplots_adjust(hspace=0.3)\n",
    "sub1 = fig.add_subplot(2, 2, 1)\n",
    "sub1.title.set_text(\"Noise Level: 0.38\")\n",
    "sub1.imshow(x1[7], cmap=\"gray_r\")\n",
    "sub2 = fig.add_subplot(2, 2, 2)\n",
    "sub2.title.set_text(\"Noise Level: 0.30\")\n",
    "sub2.imshow(x2[7], cmap=\"gray_r\")\n",
    "sub3 = fig.add_subplot(2, 2, 3)\n",
    "sub3.title.set_text(\"Noise Level: 0.22\")\n",
    "sub3.imshow(x3[7], cmap=\"gray_r\")\n",
    "sub4 = fig.add_subplot(2, 2, 4)\n",
    "sub4.title.set_text(\"Noise Level: 0.14\")\n",
    "sub4.imshow(x4[7], cmap=\"gray_r\")\n",
    "plt.savefig(\"noisynoisy.png\")\n",
    "plt.show()"
   ]
  },
  {
   "cell_type": "code",
   "execution_count": 160,
   "metadata": {},
   "outputs": [
    {
     "data": {
      "image/png": "[encoded data removed]",
      "text/plain": [
       "<Figure size 432x288 with 1 Axes>"
      ]
     },
     "metadata": {},
     "output_type": "display_data"
    }
   ],
   "source": [
    "plt.imshow(X_train[7], cmap=\"gray_r\")\n",
    "plt.title(\"Original\")\n",
    "plt.savefig(\"original.png\")"
   ]
  }
 ],
 "metadata": {
  "kernelspec": {
   "display_name": "Python 3",
   "language": "python",
   "name": "python3"
  },
  "language_info": {
   "codemirror_mode": {
    "name": "ipython",
    "version": 3
   },
   "file_extension": ".py",
   "mimetype": "text/x-python",
   "name": "python",
   "nbconvert_exporter": "python",
   "pygments_lexer": "ipython3",
   "version": "3.6.5"
  }
 },
 "nbformat": 4,
 "nbformat_minor": 2
}
