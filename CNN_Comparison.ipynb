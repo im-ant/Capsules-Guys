{
  "nbformat": 4,
  "nbformat_minor": 0,
  "metadata": {
    "colab": {
      "name": "CNN_Comparison.ipynb",
      "version": "0.3.2",
      "provenance": [],
      "collapsed_sections": [],
      "toc_visible": true
    },
    "kernelspec": {
      "name": "python3",
      "display_name": "Python 3"
    },
    "accelerator": "GPU"
  },
  "cells": [
    {
      "metadata": {
        "id": "I2KRXS-b-a1h",
        "colab_type": "text"
      },
      "cell_type": "markdown",
      "source": [
        "# CNN for task performance comparison"
      ]
    },
    {
      "metadata": {
        "id": "Ze0V3byE-a1k",
        "colab_type": "text"
      },
      "cell_type": "markdown",
      "source": [
        "#### Unzip files"
      ]
    },
    {
      "metadata": {
        "id": "uQtdq33U-a1k",
        "colab_type": "code",
        "colab": {}
      },
      "cell_type": "code",
      "source": [
        "# unzip files\n",
        "import zipfile\n",
        "\n",
        "UNZIP_NAME = 'files.zip'\n",
        "\n",
        "with zipfile.ZipFile(UNZIP_NAME, 'r') as zip_ref:\n",
        "  zip_ref.extractall('.')\n"
      ],
      "execution_count": 0,
      "outputs": []
    },
    {
      "metadata": {
        "id": "8oRZ6i_m-a1p",
        "colab_type": "text"
      },
      "cell_type": "markdown",
      "source": [
        "## Get data"
      ]
    },
    {
      "metadata": {
        "id": "X0jtlD3I-a1q",
        "colab_type": "code",
        "colab": {}
      },
      "cell_type": "code",
      "source": [
        "import numpy as np\n",
        "import matplotlib.pyplot as plt"
      ],
      "execution_count": 0,
      "outputs": []
    },
    {
      "metadata": {
        "id": "7-xJ54I5-a1x",
        "colab_type": "text"
      },
      "cell_type": "markdown",
      "source": [
        "#### Import data"
      ]
    },
    {
      "metadata": {
        "id": "LX9ChFfv-a1y",
        "colab_type": "code",
        "outputId": "d5529739-4c97-40a9-a4bc-f81507586d76",
        "colab": {
          "base_uri": "https://localhost:8080/",
          "height": 34
        }
      },
      "cell_type": "code",
      "source": [
        "#DATA_PATH = '/Users/anthony/Documents/Comp551_Projects/CapNET/data/mnistData.npz'\n",
        "#DATA_PATH = 'noisy_mnist_data_0-38.npz'\n",
        "DATA_PATH = 'fashion_mnist_Data.npz'\n",
        "\n",
        "npzfile = np.load(DATA_PATH)\n",
        "npzfile.files"
      ],
      "execution_count": 87,
      "outputs": [
        {
          "output_type": "execute_result",
          "data": {
            "text/plain": [
              "['X_train', 'y_train', 'X_test', 'y_test']"
            ]
          },
          "metadata": {
            "tags": []
          },
          "execution_count": 87
        }
      ]
    },
    {
      "metadata": {
        "id": "JQNvsI7H-a14",
        "colab_type": "text"
      },
      "cell_type": "markdown",
      "source": [
        "#### Unpack - take subset? "
      ]
    },
    {
      "metadata": {
        "id": "UzZc1Ap9-a15",
        "colab_type": "code",
        "outputId": "d56e8ecb-ed64-4288-9f9e-4f237352e804",
        "colab": {
          "base_uri": "https://localhost:8080/",
          "height": 85
        }
      },
      "cell_type": "code",
      "source": [
        "TAKE_SUBSET = True\n",
        "SUBSET_SIZE = 6000\n",
        "\n",
        "# Unpack the training and testing datasets\n",
        "X_train, y_train = npzfile['X_train'], npzfile['y_train']\n",
        "X_test, y_test = npzfile['X_test'], npzfile['y_test']\n",
        "\n",
        "# Take subset\n",
        "if TAKE_SUBSET:\n",
        "    X_train = X_train[0:SUBSET_SIZE]\n",
        "    y_train = y_train[0:SUBSET_SIZE]\n",
        "    \n",
        "# Expand the dimension of images to signal greyscale\n",
        "X_train = np.expand_dims(X_train, axis=3)\n",
        "X_test = np.expand_dims(X_test, axis=3)\n",
        "\n",
        "print(np.shape(X_train))\n",
        "print(np.shape(y_train))\n",
        "print(np.shape(X_test))\n",
        "print(np.shape(y_test))"
      ],
      "execution_count": 88,
      "outputs": [
        {
          "output_type": "stream",
          "text": [
            "(6000, 28, 28, 1)\n",
            "(6000, 10)\n",
            "(10000, 28, 28, 1)\n",
            "(10000, 10)\n"
          ],
          "name": "stdout"
        }
      ]
    },
    {
      "metadata": {
        "id": "ovA3rZ3GCvzu",
        "colab_type": "text"
      },
      "cell_type": "markdown",
      "source": [
        "### Check Normalization"
      ]
    },
    {
      "metadata": {
        "id": "d-x2u38KCutX",
        "colab_type": "code",
        "outputId": "58393fbc-0330-4514-fca5-b8e20e5589cd",
        "colab": {
          "base_uri": "https://localhost:8080/",
          "height": 85
        }
      },
      "cell_type": "code",
      "source": [
        "SCALE = True\n",
        "\n",
        "print(\"Original Feature range: [%f - %f]\" % (np.min(X_train),np.max(X_train)))\n",
        "\n",
        "if SCALE:\n",
        "  X_train = X_train / np.max(X_train)\n",
        "  X_test = X_test / np.max(X_test)\n",
        "  \n",
        "  print(\"Scale Feature Ranges:\")\n",
        "  print(\"[%f - %f]\" % (np.min(X_train),np.max(X_train)))\n",
        "  print(\"[%f - %f]\" % (np.min(X_test),np.max(X_test)))\n"
      ],
      "execution_count": 90,
      "outputs": [
        {
          "output_type": "stream",
          "text": [
            "Original Feature range: [0.000000 - 255.000000]\n",
            "Scale Feature Ranges:\n",
            "[0.000000 - 1.000000]\n",
            "[0.000000 - 1.000000]\n"
          ],
          "name": "stdout"
        }
      ]
    },
    {
      "metadata": {
        "id": "pU1iPeIN-a2E",
        "colab_type": "text"
      },
      "cell_type": "markdown",
      "source": [
        "## Set up convolutional net"
      ]
    },
    {
      "metadata": {
        "id": "gXFlru-M-a2G",
        "colab_type": "code",
        "colab": {}
      },
      "cell_type": "code",
      "source": [
        "from keras.models import Sequential, Model\n",
        "from keras.layers import Dense, Conv2D, Flatten, Input, MaxPooling2D\n",
        "from keras.layers import BatchNormalization\n",
        "import keras.layers"
      ],
      "execution_count": 0,
      "outputs": []
    },
    {
      "metadata": {
        "id": "Qt_eECwr-a2I",
        "colab_type": "text"
      },
      "cell_type": "markdown",
      "source": [
        "### Define model(s)"
      ]
    },
    {
      "metadata": {
        "id": "y_E3IFQR-a2J",
        "colab_type": "code",
        "colab": {}
      },
      "cell_type": "code",
      "source": [
        "def basic_CNN():\n",
        "    # Input layer\n",
        "    x = Input(shape=(28,28,1))\n",
        "    \n",
        "    # First convolution\n",
        "    conv1 = Conv2D(filters=256, kernel_size=9, strides=1,\\\n",
        "                          padding='valid', activation='relu')(x)\n",
        "    \n",
        "    # Second convolution (32 capsules * 8 dimensions: 256 individual filters equivalency )\n",
        "    conv2 = Conv2D(filters=256, kernel_size=9, strides=2,\\\n",
        "                          padding='valid', activation='relu')(conv1)\n",
        "    \n",
        "    # Max pooling (instead of dynamic routing)\n",
        "    pool = MaxPooling2D(pool_size=2, strides=1)(conv2)\n",
        "    \n",
        "    # Third convolution (10 capsules * 16 dimension: 160 individual filter equivapency)\n",
        "    conv3 = Conv2D(filters=160, kernel_size=5, strides=1,\\\n",
        "                          padding='valid', activation='relu')(pool)\n",
        "    \n",
        "    # Flatten\n",
        "    flat = Flatten()(conv3)\n",
        "    \n",
        "    # Output layer\n",
        "    fc = Dense(10, activation='softmax')(flat)    \n",
        "    \n",
        "    # Compile model\n",
        "    model = Model(x, fc)\n",
        "    model.compile(optimizer='adam', loss='categorical_crossentropy', metrics=['accuracy'])\n",
        "    \n",
        "    return model\n",
        "  \n",
        "def reguNormed_CNN():\n",
        "    # Input layer\n",
        "    x = Input(shape=(28,28,1))\n",
        "    \n",
        "    # First convolution\n",
        "    conv1 = Conv2D(filters=256, kernel_size=9, strides=1,\\\n",
        "                          padding='valid', activation='relu')(x)\n",
        "    drop1 = keras.layers.Dropout(0.3)(conv1)\n",
        "        \n",
        "    # Second convolution (32 capsules * 8 dimensions: 256 individual filters equivalency )\n",
        "    conv2 = Conv2D(filters=256, kernel_size=9, strides=2,\\\n",
        "                          padding='valid', activation='relu')(drop1)\n",
        "    \n",
        "    # Max pooling (instead of dynamic routing)\n",
        "    pool = MaxPooling2D(pool_size=2, strides=1)(conv2)\n",
        "    drop2 = keras.layers.Dropout(0.3)(pool)\n",
        "        \n",
        "    # Third convolution (10 capsules * 16 dimension: 160 individual filter equivapency)\n",
        "    conv3 = Conv2D(filters=160, kernel_size=5, strides=1,\\\n",
        "                          padding='valid', activation='relu')(drop2)\n",
        "    \n",
        " \n",
        "    # Flatten and batch normalize\n",
        "    flat = Flatten()(conv3)\n",
        "    norm = BatchNormalization()(flat)\n",
        "    \n",
        "    # Output layer\n",
        "    out = Dense(10, activation='softmax')(norm)\n",
        "    \n",
        "    # Compile model\n",
        "    model = Model(x, out)\n",
        "    model.compile(optimizer='adam', loss='categorical_crossentropy', metrics=['accuracy'])\n",
        "    \n",
        "    return model\n",
        "    \n",
        "    "
      ],
      "execution_count": 0,
      "outputs": []
    },
    {
      "metadata": {
        "id": "ysu0v-Ad-a2M",
        "colab_type": "code",
        "outputId": "8f001708-a439-4007-efa5-b67ec42e0948",
        "colab": {
          "base_uri": "https://localhost:8080/",
          "height": 476
        }
      },
      "cell_type": "code",
      "source": [
        "#model = basic_CNN()\n",
        "model = reguNormed_CNN()\n",
        "model.summary()\n",
        "\n",
        "## TODO: compare the number of parameters"
      ],
      "execution_count": 93,
      "outputs": [
        {
          "output_type": "stream",
          "text": [
            "_________________________________________________________________\n",
            "Layer (type)                 Output Shape              Param #   \n",
            "=================================================================\n",
            "input_5 (InputLayer)         (None, 28, 28, 1)         0         \n",
            "_________________________________________________________________\n",
            "conv2d_13 (Conv2D)           (None, 20, 20, 256)       20992     \n",
            "_________________________________________________________________\n",
            "dropout_9 (Dropout)          (None, 20, 20, 256)       0         \n",
            "_________________________________________________________________\n",
            "conv2d_14 (Conv2D)           (None, 6, 6, 256)         5308672   \n",
            "_________________________________________________________________\n",
            "max_pooling2d_5 (MaxPooling2 (None, 5, 5, 256)         0         \n",
            "_________________________________________________________________\n",
            "dropout_10 (Dropout)         (None, 5, 5, 256)         0         \n",
            "_________________________________________________________________\n",
            "conv2d_15 (Conv2D)           (None, 1, 1, 160)         1024160   \n",
            "_________________________________________________________________\n",
            "flatten_5 (Flatten)          (None, 160)               0         \n",
            "_________________________________________________________________\n",
            "batch_normalization_5 (Batch (None, 160)               640       \n",
            "_________________________________________________________________\n",
            "dense_5 (Dense)              (None, 10)                1610      \n",
            "=================================================================\n",
            "Total params: 6,356,074\n",
            "Trainable params: 6,355,754\n",
            "Non-trainable params: 320\n",
            "_________________________________________________________________\n"
          ],
          "name": "stdout"
        }
      ]
    },
    {
      "metadata": {
        "id": "viWLRNX_-a2c",
        "colab_type": "text"
      },
      "cell_type": "markdown",
      "source": [
        "### Train model"
      ]
    },
    {
      "metadata": {
        "id": "gNNbjbdk-a2c",
        "colab_type": "code",
        "outputId": "9df66566-0585-439e-b4e1-e6da15098431",
        "colab": {
          "base_uri": "https://localhost:8080/",
          "height": 1244
        }
      },
      "cell_type": "code",
      "source": [
        "history = model.fit(X_train, y_train,\n",
        "                    epochs=35,\n",
        "                    batch_size=60,\n",
        "                    shuffle=True,\n",
        "                    validation_data=(X_test, y_test)\n",
        "                   )"
      ],
      "execution_count": 94,
      "outputs": [
        {
          "output_type": "stream",
          "text": [
            "Train on 6000 samples, validate on 10000 samples\n",
            "Epoch 1/35\n",
            "6000/6000 [==============================] - 11s 2ms/step - loss: 0.7879 - acc: 0.7098 - val_loss: 0.7984 - val_acc: 0.7161\n",
            "Epoch 2/35\n",
            "6000/6000 [==============================] - 10s 2ms/step - loss: 0.5377 - acc: 0.8003 - val_loss: 0.7139 - val_acc: 0.7463\n",
            "Epoch 3/35\n",
            "6000/6000 [==============================] - 10s 2ms/step - loss: 0.4822 - acc: 0.8223 - val_loss: 0.6355 - val_acc: 0.7931\n",
            "Epoch 4/35\n",
            "6000/6000 [==============================] - 10s 2ms/step - loss: 0.4256 - acc: 0.8418 - val_loss: 0.5284 - val_acc: 0.7906\n",
            "Epoch 5/35\n",
            "6000/6000 [==============================] - 10s 2ms/step - loss: 0.3870 - acc: 0.8553 - val_loss: 0.4883 - val_acc: 0.8182\n",
            "Epoch 6/35\n",
            "6000/6000 [==============================] - 10s 2ms/step - loss: 0.3527 - acc: 0.8663 - val_loss: 0.4766 - val_acc: 0.8241\n",
            "Epoch 7/35\n",
            "6000/6000 [==============================] - 10s 2ms/step - loss: 0.3448 - acc: 0.8728 - val_loss: 0.4798 - val_acc: 0.8322\n",
            "Epoch 8/35\n",
            "6000/6000 [==============================] - 10s 2ms/step - loss: 0.3100 - acc: 0.8842 - val_loss: 0.4232 - val_acc: 0.8494\n",
            "Epoch 9/35\n",
            "6000/6000 [==============================] - 10s 2ms/step - loss: 0.2915 - acc: 0.8908 - val_loss: 0.4289 - val_acc: 0.8474\n",
            "Epoch 10/35\n",
            "6000/6000 [==============================] - 10s 2ms/step - loss: 0.2748 - acc: 0.8965 - val_loss: 0.4516 - val_acc: 0.8468\n",
            "Epoch 11/35\n",
            "6000/6000 [==============================] - 10s 2ms/step - loss: 0.2532 - acc: 0.9055 - val_loss: 0.4593 - val_acc: 0.8418\n",
            "Epoch 12/35\n",
            "6000/6000 [==============================] - 10s 2ms/step - loss: 0.2539 - acc: 0.9048 - val_loss: 0.4528 - val_acc: 0.8460\n",
            "Epoch 13/35\n",
            "6000/6000 [==============================] - 10s 2ms/step - loss: 0.2470 - acc: 0.9032 - val_loss: 0.4345 - val_acc: 0.8552\n",
            "Epoch 14/35\n",
            "6000/6000 [==============================] - 10s 2ms/step - loss: 0.2158 - acc: 0.9203 - val_loss: 0.4565 - val_acc: 0.8427\n",
            "Epoch 15/35\n",
            "6000/6000 [==============================] - 10s 2ms/step - loss: 0.2066 - acc: 0.9222 - val_loss: 0.4427 - val_acc: 0.8556\n",
            "Epoch 16/35\n",
            "6000/6000 [==============================] - 10s 2ms/step - loss: 0.1905 - acc: 0.9302 - val_loss: 0.4536 - val_acc: 0.8519\n",
            "Epoch 17/35\n",
            "6000/6000 [==============================] - 10s 2ms/step - loss: 0.1781 - acc: 0.9343 - val_loss: 0.4432 - val_acc: 0.8534\n",
            "Epoch 18/35\n",
            "6000/6000 [==============================] - 10s 2ms/step - loss: 0.1661 - acc: 0.9373 - val_loss: 0.4651 - val_acc: 0.8484\n",
            "Epoch 19/35\n",
            "6000/6000 [==============================] - 10s 2ms/step - loss: 0.1619 - acc: 0.9408 - val_loss: 0.4614 - val_acc: 0.8598\n",
            "Epoch 20/35\n",
            "6000/6000 [==============================] - 10s 2ms/step - loss: 0.1565 - acc: 0.9423 - val_loss: 0.5190 - val_acc: 0.8593\n",
            "Epoch 21/35\n",
            "6000/6000 [==============================] - 10s 2ms/step - loss: 0.1559 - acc: 0.9423 - val_loss: 0.4908 - val_acc: 0.8585\n",
            "Epoch 22/35\n",
            "6000/6000 [==============================] - 10s 2ms/step - loss: 0.1448 - acc: 0.9450 - val_loss: 0.4592 - val_acc: 0.8575\n",
            "Epoch 23/35\n",
            "6000/6000 [==============================] - 10s 2ms/step - loss: 0.1360 - acc: 0.9505 - val_loss: 0.4783 - val_acc: 0.8620\n",
            "Epoch 24/35\n",
            "6000/6000 [==============================] - 10s 2ms/step - loss: 0.1274 - acc: 0.9528 - val_loss: 0.4800 - val_acc: 0.8625\n",
            "Epoch 25/35\n",
            "6000/6000 [==============================] - 10s 2ms/step - loss: 0.1175 - acc: 0.9587 - val_loss: 0.4802 - val_acc: 0.8641\n",
            "Epoch 26/35\n",
            "6000/6000 [==============================] - 10s 2ms/step - loss: 0.1067 - acc: 0.9622 - val_loss: 0.5013 - val_acc: 0.8549\n",
            "Epoch 27/35\n",
            "6000/6000 [==============================] - 10s 2ms/step - loss: 0.1010 - acc: 0.9637 - val_loss: 0.5166 - val_acc: 0.8588\n",
            "Epoch 28/35\n",
            "6000/6000 [==============================] - 10s 2ms/step - loss: 0.1003 - acc: 0.9638 - val_loss: 0.5103 - val_acc: 0.8632\n",
            "Epoch 29/35\n",
            "6000/6000 [==============================] - 10s 2ms/step - loss: 0.0848 - acc: 0.9680 - val_loss: 0.4715 - val_acc: 0.8621\n",
            "Epoch 30/35\n",
            "6000/6000 [==============================] - 10s 2ms/step - loss: 0.0842 - acc: 0.9710 - val_loss: 0.5469 - val_acc: 0.8626\n",
            "Epoch 31/35\n",
            "6000/6000 [==============================] - 10s 2ms/step - loss: 0.0778 - acc: 0.9707 - val_loss: 0.5201 - val_acc: 0.8559\n",
            "Epoch 32/35\n",
            "6000/6000 [==============================] - 10s 2ms/step - loss: 0.0872 - acc: 0.9680 - val_loss: 0.5869 - val_acc: 0.8610\n",
            "Epoch 33/35\n",
            "6000/6000 [==============================] - 10s 2ms/step - loss: 0.0967 - acc: 0.9643 - val_loss: 0.5831 - val_acc: 0.8610\n",
            "Epoch 34/35\n",
            "6000/6000 [==============================] - 10s 2ms/step - loss: 0.0752 - acc: 0.9735 - val_loss: 0.5559 - val_acc: 0.8618\n",
            "Epoch 35/35\n",
            "6000/6000 [==============================] - 10s 2ms/step - loss: 0.0718 - acc: 0.9773 - val_loss: 0.5723 - val_acc: 0.8618\n"
          ],
          "name": "stdout"
        }
      ]
    },
    {
      "metadata": {
        "id": "JpZzDDuT-a2k",
        "colab_type": "code",
        "outputId": "ee26a878-c42d-45a1-bd14-0aaad1357ca2",
        "colab": {
          "base_uri": "https://localhost:8080/",
          "height": 283
        }
      },
      "cell_type": "code",
      "source": [
        "# Plot history\n",
        "plt.figure(figsize=(13.5,3.8))\n",
        "\n",
        "plt.subplot(1,2,1)\n",
        "plt.plot(history.history['loss'])\n",
        "plt.plot(history.history['val_loss'])\n",
        "plt.title('Loss')\n",
        "plt.xlabel('Epochs')\n",
        "plt.legend(['Training','Testing'])\n",
        "\n",
        "plt.subplot(1,2,2)\n",
        "plt.plot(history.history['acc'])\n",
        "plt.plot(history.history['val_acc'])\n",
        "plt.title('Accuracy')\n",
        "plt.xlabel('Epochs')\n",
        "plt.legend(['Training','Testing'])\n",
        "\n",
        "plt.show()"
      ],
      "execution_count": 95,
      "outputs": [
        {
          "output_type": "display_data",
          "data": {
            "image/png": "[encoded data removed]",
            "text/plain": [
              "<matplotlib.figure.Figure at 0x7f3654c9ec18>"
            ]
          },
          "metadata": {
            "tags": []
          }
        }
      ]
    },
    {
      "metadata": {
        "id": "11bjMnmrLUrD",
        "colab_type": "text"
      },
      "cell_type": "markdown",
      "source": [
        "#### Save weights and history"
      ]
    },
    {
      "metadata": {
        "id": "FCbEyGuRLABQ",
        "colab_type": "code",
        "colab": {}
      },
      "cell_type": "code",
      "source": [
        "SAVE_WEIGHTS = False\n",
        "MODEL_NAME = 'fashion-mnist_CNN_25Epochs'\n",
        "\n",
        "if SAVE_WEIGHTS:\n",
        "  model.save_weights('%s_weights.h5' % MODEL_NAME)\n"
      ],
      "execution_count": 0,
      "outputs": []
    },
    {
      "metadata": {
        "id": "TC1BFUWhL-60",
        "colab_type": "code",
        "colab": {}
      },
      "cell_type": "code",
      "source": [
        "# Save training history\n",
        "import pickle\n",
        "\n",
        "SAVE_HISTORY = True\n",
        "\n",
        "if SAVE_HISTORY:\n",
        "  pickle.dump( history.history, open('%s_history.pickle'%MODEL_NAME, 'wb') )\n",
        "\n"
      ],
      "execution_count": 0,
      "outputs": []
    },
    {
      "metadata": {
        "id": "pQTz7X_vL17Z",
        "colab_type": "text"
      },
      "cell_type": "markdown",
      "source": [
        "## Model Evaluation\n",
        "### Get test data"
      ]
    },
    {
      "metadata": {
        "id": "nXNvZUHRLzvQ",
        "colab_type": "code",
        "colab": {
          "base_uri": "https://localhost:8080/",
          "height": 34
        },
        "outputId": "625eb038-cf76-47d1-9abe-c56634195948"
      },
      "cell_type": "code",
      "source": [
        "# Import files\n",
        "\n",
        "#TEST_DATA_PATH = 'noisy_mnist_data_0-38.npz'\n",
        "TEST_DATA_PATH = 'mnistData.npz'\n",
        "\n",
        "test_npzfile = np.load(TEST_DATA_PATH)\n",
        "test_npzfile.files"
      ],
      "execution_count": 77,
      "outputs": [
        {
          "output_type": "execute_result",
          "data": {
            "text/plain": [
              "['X_train', 'y_train', 'X_test', 'y_test']"
            ]
          },
          "metadata": {
            "tags": []
          },
          "execution_count": 77
        }
      ]
    },
    {
      "metadata": {
        "id": "e0vd7gByLzaW",
        "colab_type": "code",
        "colab": {
          "base_uri": "https://localhost:8080/",
          "height": 68
        },
        "outputId": "12f0bd00-81b5-4909-f8ff-2d31943a3a38"
      },
      "cell_type": "code",
      "source": [
        "# Unpack the training and testing datasets\n",
        "new_X_test, new_y_test = test_npzfile['X_test'], test_npzfile['y_test']\n",
        "    \n",
        "# Expand the dimension of images to signal greyscale\n",
        "new_X_test = np.expand_dims(new_X_test, axis=3)\n",
        "\n",
        "# Check the scaling of the test data\n",
        "print(\"Test dataset feature range: [%f - %f]\" % (np.min(new_X_test),np.max(new_X_test)))\n",
        "\n",
        "print(np.shape(new_X_test))\n",
        "print(np.shape(new_y_test))"
      ],
      "execution_count": 78,
      "outputs": [
        {
          "output_type": "stream",
          "text": [
            "Test dataset feature range: [0.000000 - 1.000000]\n",
            "(10000, 28, 28, 1)\n",
            "(10000, 10)\n"
          ],
          "name": "stdout"
        }
      ]
    },
    {
      "metadata": {
        "id": "luCTkvb5M347",
        "colab_type": "text"
      },
      "cell_type": "markdown",
      "source": [
        "### Evaluate model\n",
        "** On the original test set **"
      ]
    },
    {
      "metadata": {
        "id": "dVnDZByIM2cm",
        "colab_type": "code",
        "colab": {
          "base_uri": "https://localhost:8080/",
          "height": 51
        },
        "outputId": "639fd33d-b06a-4a96-d319-1f0b4e058256"
      },
      "cell_type": "code",
      "source": [
        "model.evaluate(x = X_test,\n",
        "               y = y_test,\n",
        "               verbose=1\n",
        "              )"
      ],
      "execution_count": 98,
      "outputs": [
        {
          "output_type": "stream",
          "text": [
            "10000/10000 [==============================] - 5s 487us/step\n"
          ],
          "name": "stdout"
        },
        {
          "output_type": "execute_result",
          "data": {
            "text/plain": [
              "[0.5723449234068394, 0.8618]"
            ]
          },
          "metadata": {
            "tags": []
          },
          "execution_count": 98
        }
      ]
    },
    {
      "metadata": {
        "id": "NfmT1sS_NiEt",
        "colab_type": "text"
      },
      "cell_type": "markdown",
      "source": [
        "** On the new test set **"
      ]
    },
    {
      "metadata": {
        "id": "tGpaBKNnM2L3",
        "colab_type": "code",
        "colab": {
          "base_uri": "https://localhost:8080/",
          "height": 51
        },
        "outputId": "5d598802-0004-4fc4-d3a2-87c558d0de99"
      },
      "cell_type": "code",
      "source": [
        "model.evaluate(x = new_X_test,\n",
        "               y = new_y_test,\n",
        "               verbose=1\n",
        "              )"
      ],
      "execution_count": 86,
      "outputs": [
        {
          "output_type": "stream",
          "text": [
            "10000/10000 [==============================] - 5s 470us/step\n"
          ],
          "name": "stdout"
        },
        {
          "output_type": "execute_result",
          "data": {
            "text/plain": [
              "[0.1315754118097954, 0.9803]"
            ]
          },
          "metadata": {
            "tags": []
          },
          "execution_count": 86
        }
      ]
    },
    {
      "metadata": {
        "id": "BBj63zjqGCWy",
        "colab_type": "code",
        "colab": {}
      },
      "cell_type": "code",
      "source": [
        ""
      ],
      "execution_count": 0,
      "outputs": []
    }
  ]
}