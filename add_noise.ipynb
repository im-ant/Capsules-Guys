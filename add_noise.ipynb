{
 "cells": [
  {
   "cell_type": "code",
   "execution_count": 74,
   "metadata": {},
   "outputs": [],
   "source": [
    "import numpy as np\n",
    "import sklearn\n",
    "import keras\n",
    "import pandas as pd\n",
    "import matplotlib.pyplot as plt"
   ]
  },
  {
   "cell_type": "code",
   "execution_count": 75,
   "metadata": {},
   "outputs": [
    {
     "data": {
      "text/plain": [
       "['X_train', 'y_train', 'X_test', 'y_test']"
      ]
     },
     "execution_count": 75,
     "metadata": {},
     "output_type": "execute_result"
    }
   ],
   "source": [
    "# Indicate path to dataset\n",
    "DATA_PATH = 'mnistData.npz'\n",
    "#DATA_PATH = 'fashion_mnist_Data.npz'\n",
    "\n",
    "# Load files\n",
    "npzfile = np.load(DATA_PATH)\n",
    "npzfile.files"
   ]
  },
  {
   "cell_type": "code",
   "execution_count": 76,
   "metadata": {},
   "outputs": [
    {
     "name": "stdout",
     "output_type": "stream",
     "text": [
      "(60000, 28, 28)\n",
      "(60000, 10)\n",
      "(10000, 28, 28)\n",
      "(10000, 10)\n"
     ]
    }
   ],
   "source": [
    "X_train, y_train = npzfile['X_train'], npzfile['y_train']\n",
    "X_test, y_test = npzfile['X_test'], npzfile['y_test']\n",
    "\n",
    "print(np.shape(X_train))\n",
    "print(np.shape(y_train))\n",
    "print(np.shape(X_test))\n",
    "print(np.shape(y_test))"
   ]
  },
  {
   "cell_type": "code",
   "execution_count": 77,
   "metadata": {},
   "outputs": [
    {
     "data": {
      "image/png": "[encoded data removed]",
      "text/plain": [
       "<Figure size 1080x216 with 8 Axes>"
      ]
     },
     "metadata": {},
     "output_type": "display_data"
    }
   ],
   "source": [
    "N_2_SHOW = 8\n",
    "\n",
    "# Take a random set of indeces\n",
    "rng = np.random.RandomState(seed=42)\n",
    "imgIndeces = rng.randint(0, len(X_train), size=N_2_SHOW)\n",
    "\n",
    "# Show images\n",
    "plt.figure(figsize=(15,3))\n",
    "for i, imgIdx in enumerate(imgIndeces):\n",
    "    # get current image\n",
    "    curImg = X_train[imgIdx]\n",
    "    \n",
    "    # show image\n",
    "    plt.subplot(1,N_2_SHOW,(i+1))\n",
    "    plt.imshow(curImg, cmap='gray_r')\n",
    "\n",
    "plt.show()\n",
    "\n",
    "del N_2_SHOW, rng"
   ]
  },
  {
   "cell_type": "code",
   "execution_count": 78,
   "metadata": {},
   "outputs": [],
   "source": [
    "def noisify(img, scale=0.38):\n",
    "    noise = np.abs(np.random.normal(scale=scale, size=img.shape))\n",
    "    noisy_img = noise + img\n",
    "    noisy_img = noisy_img/(np.max(noisy_img))\n",
    "    return noisy_img"
   ]
  },
  {
   "cell_type": "code",
   "execution_count": 83,
   "metadata": {},
   "outputs": [],
   "source": [
    "def noisify_n(imgs, scale=0.38):\n",
    "    noisy_imgs = np.zeros(imgs.shape)\n",
    "    for i in range(noisy_imgs.shape[0]):\n",
    "        noisy_imgs[i] = noisify(imgs[i], scale=scale)\n",
    "    return noisy_imgs"
   ]
  },
  {
   "cell_type": "code",
   "execution_count": 98,
   "metadata": {},
   "outputs": [
    {
     "data": {
      "image/png": "[encoded data removed]",
      "text/plain": [
       "<Figure size 432x288 with 1 Axes>"
      ]
     },
     "metadata": {},
     "output_type": "display_data"
    }
   ],
   "source": [
    "plt.imshow(noisify(X_train[0]), cmap=\"gray_r\")\n",
    "plt.show()\n",
    "#noisify(X_train[0])"
   ]
  },
  {
   "cell_type": "code",
   "execution_count": 100,
   "metadata": {},
   "outputs": [
    {
     "data": {
      "image/png": "[encoded data removed]",
      "text/plain": [
       "<Figure size 432x288 with 1 Axes>"
      ]
     },
     "metadata": {},
     "output_type": "display_data"
    }
   ],
   "source": [
    "plt.imshow(noisify_n(X_train)[0], cmap=\"gray_r\")\n",
    "plt.show()"
   ]
  },
  {
   "cell_type": "code",
   "execution_count": 101,
   "metadata": {},
   "outputs": [],
   "source": [
    "noisy_X_train = noisify_n(X_train)\n",
    "noisy_X_test = noisify_n(X_test)\n",
    "noisy_data = {\"X_train\": noisy_X_train, \"y_train\": y_train, \"X_test\": noisy_X_test, \"y_test\": y_test}"
   ]
  },
  {
   "cell_type": "code",
   "execution_count": 108,
   "metadata": {},
   "outputs": [],
   "source": [
    "SAVE_PATH = \"mnist_noisy_Data_0_38.npz\"\n",
    "\n",
    "np.savez(SAVE_PATH, X_train=noisy_X_train, y_train=y_train, X_test=noisy_X_test, y_test=y_test)"
   ]
  }
 ],
 "metadata": {
  "kernelspec": {
   "display_name": "Python 3",
   "language": "python",
   "name": "python3"
  },
  "language_info": {
   "codemirror_mode": {
    "name": "ipython",
    "version": 3
   },
   "file_extension": ".py",
   "mimetype": "text/x-python",
   "name": "python",
   "nbconvert_exporter": "python",
   "pygments_lexer": "ipython3",
   "version": "3.6.5"
  }
 },
 "nbformat": 4,
 "nbformat_minor": 2
}
