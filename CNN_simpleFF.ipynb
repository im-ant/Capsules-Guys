{
  "nbformat": 4,
  "nbformat_minor": 0,
  "metadata": {
    "colab": {
      "name": "CNN_simpleFF.ipynb",
      "version": "0.3.2",
      "provenance": [],
      "collapsed_sections": [],
      "toc_visible": true
    },
    "kernelspec": {
      "name": "python3",
      "display_name": "Python 3"
    },
    "accelerator": "GPU"
  },
  "cells": [
    {
      "metadata": {
        "id": "I2KRXS-b-a1h",
        "colab_type": "text"
      },
      "cell_type": "markdown",
      "source": [
        "# CNN for task performance comparison"
      ]
    },
    {
      "metadata": {
        "id": "Ze0V3byE-a1k",
        "colab_type": "text"
      },
      "cell_type": "markdown",
      "source": [
        "#### Unzip files"
      ]
    },
    {
      "metadata": {
        "id": "uQtdq33U-a1k",
        "colab_type": "code",
        "colab": {}
      },
      "cell_type": "code",
      "source": [
        "# unzip files\n",
        "import zipfile\n",
        "\n",
        "UNZIP_NAME = 'mnist.zip'\n",
        "\n",
        "zip_ref = zipfile.ZipFile(UNZIP_NAME, 'r')\n",
        "zip_ref.extractall('./')\n",
        "zip_ref.close()"
      ],
      "execution_count": 0,
      "outputs": []
    },
    {
      "metadata": {
        "id": "8oRZ6i_m-a1p",
        "colab_type": "text"
      },
      "cell_type": "markdown",
      "source": [
        "## Get data"
      ]
    },
    {
      "metadata": {
        "id": "X0jtlD3I-a1q",
        "colab_type": "code",
        "colab": {}
      },
      "cell_type": "code",
      "source": [
        "import numpy as np\n",
        "import matplotlib.pyplot as plt"
      ],
      "execution_count": 0,
      "outputs": []
    },
    {
      "metadata": {
        "id": "7-xJ54I5-a1x",
        "colab_type": "text"
      },
      "cell_type": "markdown",
      "source": [
        "#### Import data"
      ]
    },
    {
      "metadata": {
        "id": "LX9ChFfv-a1y",
        "colab_type": "code",
        "outputId": "55ca38d1-9d3e-4766-aef7-70e14ddf3422",
        "colab": {
          "base_uri": "https://localhost:8080/",
          "height": 34
        }
      },
      "cell_type": "code",
      "source": [
        "#DATA_PATH = '/Users/anthony/Documents/Comp551_Projects/CapNET/data/mnistData.npz'\n",
        "DATA_PATH = 'mnistData.npz'\n",
        "\n",
        "npzfile = np.load(DATA_PATH)\n",
        "npzfile.files"
      ],
      "execution_count": 10,
      "outputs": [
        {
          "output_type": "execute_result",
          "data": {
            "text/plain": [
              "['X_train', 'y_train', 'X_test', 'y_test']"
            ]
          },
          "metadata": {
            "tags": []
          },
          "execution_count": 10
        }
      ]
    },
    {
      "metadata": {
        "id": "JQNvsI7H-a14",
        "colab_type": "text"
      },
      "cell_type": "markdown",
      "source": [
        "#### Unpack - take subset? "
      ]
    },
    {
      "metadata": {
        "id": "UzZc1Ap9-a15",
        "colab_type": "code",
        "outputId": "d032db57-4091-4269-db28-354e138b694e",
        "colab": {
          "base_uri": "https://localhost:8080/",
          "height": 85
        }
      },
      "cell_type": "code",
      "source": [
        "TAKE_SUBSET = True\n",
        "SUBSET_SIZE = 6000\n",
        "\n",
        "# Unpack the training and testing datasets\n",
        "X_train, y_train = npzfile['X_train'], npzfile['y_train']\n",
        "X_test, y_test = npzfile['X_test'], npzfile['y_test']\n",
        "\n",
        "# Take subset\n",
        "if TAKE_SUBSET:\n",
        "    X_train = X_train[0:SUBSET_SIZE]\n",
        "    y_train = y_train[0:SUBSET_SIZE]\n",
        "    \n",
        "# Expand the dimension of images to signal greyscale\n",
        "X_train = np.expand_dims(X_train, axis=3)\n",
        "X_test = np.expand_dims(X_test, axis=3)\n",
        "\n",
        "print(np.shape(X_train))\n",
        "print(np.shape(y_train))\n",
        "print(np.shape(X_test))\n",
        "print(np.shape(y_test))"
      ],
      "execution_count": 13,
      "outputs": [
        {
          "output_type": "stream",
          "text": [
            "(6000, 28, 28, 1)\n",
            "(6000, 10)\n",
            "(10000, 28, 28, 1)\n",
            "(10000, 10)\n"
          ],
          "name": "stdout"
        }
      ]
    },
    {
      "metadata": {
        "id": "pU1iPeIN-a2E",
        "colab_type": "text"
      },
      "cell_type": "markdown",
      "source": [
        "## Set up convolutional net"
      ]
    },
    {
      "metadata": {
        "id": "gXFlru-M-a2G",
        "colab_type": "code",
        "colab": {}
      },
      "cell_type": "code",
      "source": [
        "from keras.models import Sequential, Model\n",
        "from keras.layers import Dense, Conv2D, Flatten, Input, MaxPooling2D"
      ],
      "execution_count": 0,
      "outputs": []
    },
    {
      "metadata": {
        "id": "Qt_eECwr-a2I",
        "colab_type": "text"
      },
      "cell_type": "markdown",
      "source": [
        "### Define model(s)"
      ]
    },
    {
      "metadata": {
        "id": "y_E3IFQR-a2J",
        "colab_type": "code",
        "colab": {}
      },
      "cell_type": "code",
      "source": [
        "def basic_CNN():\n",
        "    # Input layer\n",
        "    x = Input(shape=(28,28,1))\n",
        "    \n",
        "    # First convolution\n",
        "    conv1 = Conv2D(filters=256, kernel_size=9, strides=1,\\\n",
        "                          padding='valid', activation='relu')(x)\n",
        "    \n",
        "    # Second convolution (32 capsules * 8 dimensions: 256 individual filters equivalency )\n",
        "    conv2 = Conv2D(filters=256, kernel_size=9, strides=2,\\\n",
        "                          padding='valid', activation='relu')(conv1)\n",
        "    \n",
        "    # Max pooling (instead of dynamic routing)\n",
        "    pool = MaxPooling2D(pool_size=2, strides=1)(conv2)\n",
        "    \n",
        "    # Third convolution (10 capsules * 16 dimension: 160 individual filter equivapency)\n",
        "    conv3 = Conv2D(filters=160, kernel_size=5, strides=1,\\\n",
        "                          padding='valid', activation='relu')(pool)\n",
        "    \n",
        "    # Flatten\n",
        "    flat = Flatten()(conv3)\n",
        "    \n",
        "    # Output layer\n",
        "    fc = Dense(10, activation='softmax')(flat)    \n",
        "    \n",
        "    # Compile model\n",
        "    model = Model(x, fc)\n",
        "    model.compile(optimizer='adam', loss='categorical_crossentropy', metrics=['accuracy'])\n",
        "    \n",
        "    return model\n",
        "    \n",
        "    "
      ],
      "execution_count": 0,
      "outputs": []
    },
    {
      "metadata": {
        "id": "ysu0v-Ad-a2M",
        "colab_type": "code",
        "outputId": "760c8a9a-6914-4503-c1be-9d3707061433",
        "colab": {
          "base_uri": "https://localhost:8080/",
          "height": 374
        }
      },
      "cell_type": "code",
      "source": [
        "model = basic_CNN()\n",
        "model.summary()\n",
        "\n",
        "## TODO: compare the number of parameters"
      ],
      "execution_count": 68,
      "outputs": [
        {
          "output_type": "stream",
          "text": [
            "_________________________________________________________________\n",
            "Layer (type)                 Output Shape              Param #   \n",
            "=================================================================\n",
            "input_17 (InputLayer)        (None, 28, 28, 1)         0         \n",
            "_________________________________________________________________\n",
            "conv2d_47 (Conv2D)           (None, 20, 20, 256)       20992     \n",
            "_________________________________________________________________\n",
            "conv2d_48 (Conv2D)           (None, 6, 6, 256)         5308672   \n",
            "_________________________________________________________________\n",
            "max_pooling2d_9 (MaxPooling2 (None, 5, 5, 256)         0         \n",
            "_________________________________________________________________\n",
            "conv2d_49 (Conv2D)           (None, 1, 1, 160)         1024160   \n",
            "_________________________________________________________________\n",
            "flatten_15 (Flatten)         (None, 160)               0         \n",
            "_________________________________________________________________\n",
            "dense_21 (Dense)             (None, 10)                1610      \n",
            "=================================================================\n",
            "Total params: 6,355,434\n",
            "Trainable params: 6,355,434\n",
            "Non-trainable params: 0\n",
            "_________________________________________________________________\n"
          ],
          "name": "stdout"
        }
      ]
    },
    {
      "metadata": {
        "id": "viWLRNX_-a2c",
        "colab_type": "text"
      },
      "cell_type": "markdown",
      "source": [
        "### Train model"
      ]
    },
    {
      "metadata": {
        "id": "gNNbjbdk-a2c",
        "colab_type": "code",
        "outputId": "15b5c7a7-db68-4e76-8a5b-a36713b50e47",
        "colab": {
          "base_uri": "https://localhost:8080/",
          "height": 1074
        }
      },
      "cell_type": "code",
      "source": [
        "history = model.fit(X_train, y_train,\n",
        "                    epochs=30,\n",
        "                    batch_size=60,\n",
        "                    shuffle=True,\n",
        "                    validation_data=(X_test, y_test)\n",
        "                   )"
      ],
      "execution_count": 69,
      "outputs": [
        {
          "output_type": "stream",
          "text": [
            "Train on 6000 samples, validate on 10000 samples\n",
            "Epoch 1/30\n",
            "6000/6000 [==============================] - 11s 2ms/step - loss: 0.3964 - acc: 0.8758 - val_loss: 0.1376 - val_acc: 0.9576\n",
            "Epoch 2/30\n",
            "6000/6000 [==============================] - 10s 2ms/step - loss: 0.0938 - acc: 0.9728 - val_loss: 0.0967 - val_acc: 0.9689\n",
            "Epoch 3/30\n",
            "6000/6000 [==============================] - 10s 2ms/step - loss: 0.0555 - acc: 0.9825 - val_loss: 0.0790 - val_acc: 0.9769\n",
            "Epoch 4/30\n",
            "6000/6000 [==============================] - 10s 2ms/step - loss: 0.0313 - acc: 0.9898 - val_loss: 0.0894 - val_acc: 0.9708\n",
            "Epoch 5/30\n",
            "6000/6000 [==============================] - 10s 2ms/step - loss: 0.0247 - acc: 0.9923 - val_loss: 0.1437 - val_acc: 0.9635\n",
            "Epoch 6/30\n",
            "6000/6000 [==============================] - 10s 2ms/step - loss: 0.0338 - acc: 0.9890 - val_loss: 0.0893 - val_acc: 0.9753\n",
            "Epoch 7/30\n",
            "6000/6000 [==============================] - 10s 2ms/step - loss: 0.0236 - acc: 0.9902 - val_loss: 0.1007 - val_acc: 0.9700\n",
            "Epoch 8/30\n",
            "6000/6000 [==============================] - 10s 2ms/step - loss: 0.0126 - acc: 0.9960 - val_loss: 0.1073 - val_acc: 0.9724\n",
            "Epoch 9/30\n",
            "6000/6000 [==============================] - 10s 2ms/step - loss: 0.0102 - acc: 0.9972 - val_loss: 0.0815 - val_acc: 0.9813\n",
            "Epoch 10/30\n",
            "6000/6000 [==============================] - 10s 2ms/step - loss: 0.0227 - acc: 0.9940 - val_loss: 0.0969 - val_acc: 0.9770\n",
            "Epoch 11/30\n",
            "6000/6000 [==============================] - 10s 2ms/step - loss: 0.0103 - acc: 0.9968 - val_loss: 0.0884 - val_acc: 0.9801\n",
            "Epoch 12/30\n",
            "6000/6000 [==============================] - 10s 2ms/step - loss: 0.0098 - acc: 0.9973 - val_loss: 0.1103 - val_acc: 0.9735\n",
            "Epoch 13/30\n",
            "6000/6000 [==============================] - 10s 2ms/step - loss: 0.0230 - acc: 0.9932 - val_loss: 0.1195 - val_acc: 0.9751\n",
            "Epoch 14/30\n",
            "6000/6000 [==============================] - 10s 2ms/step - loss: 0.0111 - acc: 0.9963 - val_loss: 0.1738 - val_acc: 0.9685\n",
            "Epoch 15/30\n",
            "6000/6000 [==============================] - 10s 2ms/step - loss: 0.0135 - acc: 0.9963 - val_loss: 0.0961 - val_acc: 0.9800\n",
            "Epoch 16/30\n",
            "6000/6000 [==============================] - 10s 2ms/step - loss: 0.0103 - acc: 0.9973 - val_loss: 0.0801 - val_acc: 0.9819\n",
            "Epoch 17/30\n",
            "6000/6000 [==============================] - 10s 2ms/step - loss: 0.0041 - acc: 0.9990 - val_loss: 0.1087 - val_acc: 0.9798\n",
            "Epoch 18/30\n",
            "6000/6000 [==============================] - 10s 2ms/step - loss: 0.0016 - acc: 0.9997 - val_loss: 0.1047 - val_acc: 0.9807\n",
            "Epoch 19/30\n",
            "6000/6000 [==============================] - 10s 2ms/step - loss: 0.0095 - acc: 0.9978 - val_loss: 0.1425 - val_acc: 0.9740\n",
            "Epoch 20/30\n",
            "6000/6000 [==============================] - 10s 2ms/step - loss: 0.0436 - acc: 0.9903 - val_loss: 0.1535 - val_acc: 0.9653\n",
            "Epoch 21/30\n",
            "6000/6000 [==============================] - 10s 2ms/step - loss: 0.0360 - acc: 0.9912 - val_loss: 0.0962 - val_acc: 0.9781\n",
            "Epoch 22/30\n",
            "6000/6000 [==============================] - 10s 2ms/step - loss: 0.0167 - acc: 0.9948 - val_loss: 0.1179 - val_acc: 0.9777\n",
            "Epoch 23/30\n",
            "6000/6000 [==============================] - 10s 2ms/step - loss: 0.0143 - acc: 0.9962 - val_loss: 0.0862 - val_acc: 0.9826\n",
            "Epoch 24/30\n",
            "6000/6000 [==============================] - 10s 2ms/step - loss: 0.0013 - acc: 0.9995 - val_loss: 0.0909 - val_acc: 0.9830\n",
            "Epoch 25/30\n",
            "6000/6000 [==============================] - 10s 2ms/step - loss: 0.0014 - acc: 0.9997 - val_loss: 0.0955 - val_acc: 0.9818\n",
            "Epoch 26/30\n",
            "6000/6000 [==============================] - 10s 2ms/step - loss: 0.0014 - acc: 0.9997 - val_loss: 0.1092 - val_acc: 0.9812\n",
            "Epoch 27/30\n",
            "6000/6000 [==============================] - 10s 2ms/step - loss: 0.0048 - acc: 0.9990 - val_loss: 0.1093 - val_acc: 0.9805\n",
            "Epoch 28/30\n",
            "6000/6000 [==============================] - 10s 2ms/step - loss: 1.2473e-04 - acc: 1.0000 - val_loss: 0.1047 - val_acc: 0.9826\n",
            "Epoch 29/30\n",
            "6000/6000 [==============================] - 10s 2ms/step - loss: 3.0935e-05 - acc: 1.0000 - val_loss: 0.1031 - val_acc: 0.9823\n",
            "Epoch 30/30\n",
            "6000/6000 [==============================] - 10s 2ms/step - loss: 1.2671e-05 - acc: 1.0000 - val_loss: 0.1024 - val_acc: 0.9825\n"
          ],
          "name": "stdout"
        }
      ]
    },
    {
      "metadata": {
        "id": "JpZzDDuT-a2k",
        "colab_type": "code",
        "outputId": "e60e6092-7692-4035-b115-32b1e14b7a5d",
        "colab": {
          "base_uri": "https://localhost:8080/",
          "height": 280
        }
      },
      "cell_type": "code",
      "source": [
        "# Plot history\n",
        "plt.figure(figsize=(15,4))\n",
        "\n",
        "plt.subplot(1,2,1)\n",
        "plt.plot(history.history['loss'])\n",
        "plt.plot(history.history['val_loss'])\n",
        "plt.title('Loss')\n",
        "plt.ylabel('Epochs')\n",
        "plt.legend(['Training','Validation'])\n",
        "\n",
        "plt.subplot(1,2,2)\n",
        "plt.plot(history.history['acc'])\n",
        "plt.plot(history.history['val_acc'])\n",
        "plt.title('Accuracy')\n",
        "plt.ylabel('Epochs')\n",
        "plt.legend(['Training','Validation'])\n",
        "\n",
        "plt.show()"
      ],
      "execution_count": 70,
      "outputs": [
        {
          "output_type": "display_data",
          "data": {
            "image/png": "[encoded data removed]",
            "text/plain": [
              "<matplotlib.figure.Figure at 0x7f910945e748>"
            ]
          },
          "metadata": {
            "tags": []
          }
        }
      ]
    },
    {
      "metadata": {
        "id": "TC1BFUWhL-60",
        "colab_type": "code",
        "colab": {}
      },
      "cell_type": "code",
      "source": [
        "# Save training history\n",
        "import pickle\n",
        "\n",
        "SAVE_HISTORY = True\n",
        "MODEL_NAME = 'CNN_simpleFF_20Epochs'\n",
        "\n",
        "\n",
        "if SAVE_HISTORY:\n",
        "  pickle.dump( history, open('%s_history.pickle'%MODEL_NAME, 'wb') )\n",
        "\n"
      ],
      "execution_count": 0,
      "outputs": []
    },
    {
      "metadata": {
        "id": "BBj63zjqGCWy",
        "colab_type": "code",
        "colab": {}
      },
      "cell_type": "code",
      "source": [
        ""
      ],
      "execution_count": 0,
      "outputs": []
    }
  ]
}