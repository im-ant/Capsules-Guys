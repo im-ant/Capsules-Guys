{
  "nbformat": 4,
  "nbformat_minor": 0,
  "metadata": {
    "colab": {
      "name": "CNN_simpleFF.ipynb",
      "version": "0.3.2",
      "provenance": [],
      "collapsed_sections": [],
      "toc_visible": true
    },
    "kernelspec": {
      "name": "python3",
      "display_name": "Python 3"
    },
    "accelerator": "GPU"
  },
  "cells": [
    {
      "metadata": {
        "id": "I2KRXS-b-a1h",
        "colab_type": "text"
      },
      "cell_type": "markdown",
      "source": [
        "# CNN for task performance comparison"
      ]
    },
    {
      "metadata": {
        "id": "Ze0V3byE-a1k",
        "colab_type": "text"
      },
      "cell_type": "markdown",
      "source": [
        "#### Unzip files"
      ]
    },
    {
      "metadata": {
        "id": "uQtdq33U-a1k",
        "colab_type": "code",
        "colab": {}
      },
      "cell_type": "code",
      "source": [
        "# unzip files\n",
        "import zipfile\n",
        "\n",
        "UNZIP_NAME = 'mnist.zip'\n",
        "\n",
        "zip_ref = zipfile.ZipFile(UNZIP_NAME, 'r')\n",
        "zip_ref.extractall('./')\n",
        "zip_ref.close()"
      ],
      "execution_count": 0,
      "outputs": []
    },
    {
      "metadata": {
        "id": "8oRZ6i_m-a1p",
        "colab_type": "text"
      },
      "cell_type": "markdown",
      "source": [
        "## Get data"
      ]
    },
    {
      "metadata": {
        "id": "X0jtlD3I-a1q",
        "colab_type": "code",
        "colab": {}
      },
      "cell_type": "code",
      "source": [
        "import numpy as np\n",
        "import matplotlib.pyplot as plt"
      ],
      "execution_count": 0,
      "outputs": []
    },
    {
      "metadata": {
        "id": "7-xJ54I5-a1x",
        "colab_type": "text"
      },
      "cell_type": "markdown",
      "source": [
        "#### Import data"
      ]
    },
    {
      "metadata": {
        "id": "LX9ChFfv-a1y",
        "colab_type": "code",
        "outputId": "4c420d08-2253-45c6-ed96-a4bb56c0360b",
        "colab": {
          "base_uri": "https://localhost:8080/",
          "height": 34
        }
      },
      "cell_type": "code",
      "source": [
        "#DATA_PATH = '/Users/anthony/Documents/Comp551_Projects/CapNET/data/mnistData.npz'\n",
        "DATA_PATH = 'fashion_mnist_Data.npz'\n",
        "\n",
        "npzfile = np.load(DATA_PATH)\n",
        "npzfile.files"
      ],
      "execution_count": 0,
      "outputs": [
        {
          "output_type": "execute_result",
          "data": {
            "text/plain": [
              "['X_train', 'y_train', 'X_test', 'y_test']"
            ]
          },
          "metadata": {
            "tags": []
          },
          "execution_count": 2
        }
      ]
    },
    {
      "metadata": {
        "id": "JQNvsI7H-a14",
        "colab_type": "text"
      },
      "cell_type": "markdown",
      "source": [
        "#### Unpack - take subset? "
      ]
    },
    {
      "metadata": {
        "id": "UzZc1Ap9-a15",
        "colab_type": "code",
        "outputId": "f9d58338-0e23-4d4d-8347-e24a02f2ea27",
        "colab": {
          "base_uri": "https://localhost:8080/",
          "height": 85
        }
      },
      "cell_type": "code",
      "source": [
        "TAKE_SUBSET = True\n",
        "SUBSET_SIZE = 6000\n",
        "\n",
        "# Unpack the training and testing datasets\n",
        "X_train, y_train = npzfile['X_train'], npzfile['y_train']\n",
        "X_test, y_test = npzfile['X_test'], npzfile['y_test']\n",
        "\n",
        "# Take subset\n",
        "if TAKE_SUBSET:\n",
        "    X_train = X_train[0:SUBSET_SIZE]\n",
        "    y_train = y_train[0:SUBSET_SIZE]\n",
        "    \n",
        "# Expand the dimension of images to signal greyscale\n",
        "X_train = np.expand_dims(X_train, axis=3)\n",
        "X_test = np.expand_dims(X_test, axis=3)\n",
        "\n",
        "print(np.shape(X_train))\n",
        "print(np.shape(y_train))\n",
        "print(np.shape(X_test))\n",
        "print(np.shape(y_test))"
      ],
      "execution_count": 0,
      "outputs": [
        {
          "output_type": "stream",
          "text": [
            "(6000, 28, 28, 1)\n",
            "(6000, 10)\n",
            "(10000, 28, 28, 1)\n",
            "(10000, 10)\n"
          ],
          "name": "stdout"
        }
      ]
    },
    {
      "metadata": {
        "id": "ovA3rZ3GCvzu",
        "colab_type": "text"
      },
      "cell_type": "markdown",
      "source": [
        "### Check Normalization"
      ]
    },
    {
      "metadata": {
        "id": "d-x2u38KCutX",
        "colab_type": "code",
        "outputId": "49976675-f860-49b8-9b0d-dc7bced0107b",
        "colab": {
          "base_uri": "https://localhost:8080/",
          "height": 85
        }
      },
      "cell_type": "code",
      "source": [
        "SCALE = True\n",
        "\n",
        "print(\"Original Feature range: [%f - %f]\" % (np.min(X_train),np.max(X_train)))\n",
        "\n",
        "if SCALE:\n",
        "  X_train = X_train / np.max(X_train)\n",
        "  X_test = X_test / np.max(X_test)\n",
        "  \n",
        "  print(\"Scale Feature Ranges:\")\n",
        "  print(\"[%f - %f]\" % (np.min(X_train),np.max(X_train)))\n",
        "  print(\"[%f - %f]\" % (np.min(X_test),np.max(X_test)))\n"
      ],
      "execution_count": 0,
      "outputs": [
        {
          "output_type": "stream",
          "text": [
            "Original Feature range: [0.000000 - 255.000000]\n",
            "Scale Feature Ranges:\n",
            "[0.000000 - 1.000000]\n",
            "[0.000000 - 1.000000]\n"
          ],
          "name": "stdout"
        }
      ]
    },
    {
      "metadata": {
        "id": "pU1iPeIN-a2E",
        "colab_type": "text"
      },
      "cell_type": "markdown",
      "source": [
        "## Set up convolutional net"
      ]
    },
    {
      "metadata": {
        "id": "gXFlru-M-a2G",
        "colab_type": "code",
        "colab": {}
      },
      "cell_type": "code",
      "source": [
        "from keras.models import Sequential, Model\n",
        "from keras.layers import Dense, Conv2D, Flatten, Input, MaxPooling2D\n",
        "from keras.layers import BatchNormalization\n",
        "import keras.layers"
      ],
      "execution_count": 0,
      "outputs": []
    },
    {
      "metadata": {
        "id": "Qt_eECwr-a2I",
        "colab_type": "text"
      },
      "cell_type": "markdown",
      "source": [
        "### Define model(s)"
      ]
    },
    {
      "metadata": {
        "id": "y_E3IFQR-a2J",
        "colab_type": "code",
        "colab": {}
      },
      "cell_type": "code",
      "source": [
        "def basic_CNN():\n",
        "    # Input layer\n",
        "    x = Input(shape=(28,28,1))\n",
        "    \n",
        "    # First convolution\n",
        "    conv1 = Conv2D(filters=256, kernel_size=9, strides=1,\\\n",
        "                          padding='valid', activation='relu')(x)\n",
        "    \n",
        "    # Second convolution (32 capsules * 8 dimensions: 256 individual filters equivalency )\n",
        "    conv2 = Conv2D(filters=256, kernel_size=9, strides=2,\\\n",
        "                          padding='valid', activation='relu')(conv1)\n",
        "    \n",
        "    # Max pooling (instead of dynamic routing)\n",
        "    pool = MaxPooling2D(pool_size=2, strides=1)(conv2)\n",
        "    \n",
        "    # Third convolution (10 capsules * 16 dimension: 160 individual filter equivapency)\n",
        "    conv3 = Conv2D(filters=160, kernel_size=5, strides=1,\\\n",
        "                          padding='valid', activation='relu')(pool)\n",
        "    \n",
        "    # Flatten\n",
        "    flat = Flatten()(conv3)\n",
        "    \n",
        "    # Output layer\n",
        "    fc = Dense(10, activation='softmax')(flat)    \n",
        "    \n",
        "    # Compile model\n",
        "    model = Model(x, fc)\n",
        "    model.compile(optimizer='adam', loss='categorical_crossentropy', metrics=['accuracy'])\n",
        "    \n",
        "    return model\n",
        "  \n",
        "def reguNormed_CNN():\n",
        "    # Input layer\n",
        "    x = Input(shape=(28,28,1))\n",
        "    \n",
        "    # First convolution\n",
        "    conv1 = Conv2D(filters=256, kernel_size=9, strides=1,\\\n",
        "                          padding='valid', activation='relu')(x)\n",
        "    drop1 = keras.layers.Dropout(0.3)(conv1)\n",
        "        \n",
        "    # Second convolution (32 capsules * 8 dimensions: 256 individual filters equivalency )\n",
        "    conv2 = Conv2D(filters=256, kernel_size=9, strides=2,\\\n",
        "                          padding='valid', activation='relu')(drop1)\n",
        "    \n",
        "    # Max pooling (instead of dynamic routing)\n",
        "    pool = MaxPooling2D(pool_size=2, strides=1)(conv2)\n",
        "    drop2 = keras.layers.Dropout(0.3)(pool)\n",
        "        \n",
        "    # Third convolution (10 capsules * 16 dimension: 160 individual filter equivapency)\n",
        "    conv3 = Conv2D(filters=160, kernel_size=5, strides=1,\\\n",
        "                          padding='valid', activation='relu')(drop2)\n",
        "    \n",
        " \n",
        "    # Flatten and batch normalize\n",
        "    flat = Flatten()(conv3)\n",
        "    norm = BatchNormalization()(flat)\n",
        "    \n",
        "    # Output layer\n",
        "    out = Dense(10, activation='softmax')(norm)\n",
        "    \n",
        "    # Compile model\n",
        "    model = Model(x, out)\n",
        "    model.compile(optimizer='adam', loss='categorical_crossentropy', metrics=['accuracy'])\n",
        "    \n",
        "    return model\n",
        "    \n",
        "    "
      ],
      "execution_count": 0,
      "outputs": []
    },
    {
      "metadata": {
        "id": "ysu0v-Ad-a2M",
        "colab_type": "code",
        "outputId": "76c5ca22-0866-47a1-b204-d757cc24e683",
        "colab": {
          "base_uri": "https://localhost:8080/",
          "height": 374
        }
      },
      "cell_type": "code",
      "source": [
        "#model = basic_CNN()\n",
        "model = basic_CNN()\n",
        "model.summary()\n",
        "\n",
        "## TODO: compare the number of parameters"
      ],
      "execution_count": 0,
      "outputs": [
        {
          "output_type": "stream",
          "text": [
            "_________________________________________________________________\n",
            "Layer (type)                 Output Shape              Param #   \n",
            "=================================================================\n",
            "input_18 (InputLayer)        (None, 28, 28, 1)         0         \n",
            "_________________________________________________________________\n",
            "conv2d_46 (Conv2D)           (None, 20, 20, 256)       20992     \n",
            "_________________________________________________________________\n",
            "conv2d_47 (Conv2D)           (None, 6, 6, 256)         5308672   \n",
            "_________________________________________________________________\n",
            "max_pooling2d_17 (MaxPooling (None, 5, 5, 256)         0         \n",
            "_________________________________________________________________\n",
            "conv2d_48 (Conv2D)           (None, 1, 1, 160)         1024160   \n",
            "_________________________________________________________________\n",
            "flatten_12 (Flatten)         (None, 160)               0         \n",
            "_________________________________________________________________\n",
            "dense_12 (Dense)             (None, 10)                1610      \n",
            "=================================================================\n",
            "Total params: 6,355,434\n",
            "Trainable params: 6,355,434\n",
            "Non-trainable params: 0\n",
            "_________________________________________________________________\n"
          ],
          "name": "stdout"
        }
      ]
    },
    {
      "metadata": {
        "id": "viWLRNX_-a2c",
        "colab_type": "text"
      },
      "cell_type": "markdown",
      "source": [
        "### Train model"
      ]
    },
    {
      "metadata": {
        "id": "gNNbjbdk-a2c",
        "colab_type": "code",
        "outputId": "056ec7a0-ee44-4df8-f6eb-bbab132c6b16",
        "colab": {
          "base_uri": "https://localhost:8080/",
          "height": 734
        }
      },
      "cell_type": "code",
      "source": [
        "history = model.fit(X_train, y_train,\n",
        "                    epochs=20,\n",
        "                    batch_size=60,\n",
        "                    shuffle=True,\n",
        "                    validation_data=(X_test, y_test)\n",
        "                   )"
      ],
      "execution_count": 0,
      "outputs": [
        {
          "output_type": "stream",
          "text": [
            "Train on 6000 samples, validate on 10000 samples\n",
            "Epoch 1/20\n",
            "6000/6000 [==============================] - 11s 2ms/step - loss: 0.8855 - acc: 0.6728 - val_loss: 0.6711 - val_acc: 0.7536\n",
            "Epoch 2/20\n",
            "6000/6000 [==============================] - 10s 2ms/step - loss: 0.5546 - acc: 0.8007 - val_loss: 0.5847 - val_acc: 0.7887\n",
            "Epoch 3/20\n",
            "6000/6000 [==============================] - 10s 2ms/step - loss: 0.4704 - acc: 0.8288 - val_loss: 0.4797 - val_acc: 0.8245\n",
            "Epoch 4/20\n",
            "6000/6000 [==============================] - 10s 2ms/step - loss: 0.4051 - acc: 0.8518 - val_loss: 0.5546 - val_acc: 0.8006\n",
            "Epoch 5/20\n",
            "6000/6000 [==============================] - 10s 2ms/step - loss: 0.3637 - acc: 0.8663 - val_loss: 0.4766 - val_acc: 0.8279\n",
            "Epoch 6/20\n",
            "6000/6000 [==============================] - 10s 2ms/step - loss: 0.3308 - acc: 0.8748 - val_loss: 0.4462 - val_acc: 0.8458\n",
            "Epoch 7/20\n",
            "6000/6000 [==============================] - 10s 2ms/step - loss: 0.2880 - acc: 0.8970 - val_loss: 0.4653 - val_acc: 0.8489\n",
            "Epoch 8/20\n",
            "6000/6000 [==============================] - 10s 2ms/step - loss: 0.2752 - acc: 0.8977 - val_loss: 0.4711 - val_acc: 0.8384\n",
            "Epoch 9/20\n",
            "6000/6000 [==============================] - 10s 2ms/step - loss: 0.2504 - acc: 0.9040 - val_loss: 0.4643 - val_acc: 0.8462\n",
            "Epoch 10/20\n",
            "6000/6000 [==============================] - 10s 2ms/step - loss: 0.2167 - acc: 0.9188 - val_loss: 0.4912 - val_acc: 0.8394\n",
            "Epoch 11/20\n",
            "6000/6000 [==============================] - 10s 2ms/step - loss: 0.1997 - acc: 0.9245 - val_loss: 0.4771 - val_acc: 0.8525\n",
            "Epoch 12/20\n",
            "6000/6000 [==============================] - 10s 2ms/step - loss: 0.1820 - acc: 0.9280 - val_loss: 0.4842 - val_acc: 0.8539\n",
            "Epoch 13/20\n",
            "6000/6000 [==============================] - 10s 2ms/step - loss: 0.1525 - acc: 0.9460 - val_loss: 0.5010 - val_acc: 0.8591\n",
            "Epoch 14/20\n",
            "6000/6000 [==============================] - 10s 2ms/step - loss: 0.1436 - acc: 0.9443 - val_loss: 0.5549 - val_acc: 0.8391\n",
            "Epoch 15/20\n",
            "6000/6000 [==============================] - 10s 2ms/step - loss: 0.1464 - acc: 0.9463 - val_loss: 0.5558 - val_acc: 0.8349\n",
            "Epoch 16/20\n",
            "6000/6000 [==============================] - 10s 2ms/step - loss: 0.1341 - acc: 0.9510 - val_loss: 0.5215 - val_acc: 0.8576\n",
            "Epoch 17/20\n",
            "6000/6000 [==============================] - 10s 2ms/step - loss: 0.1310 - acc: 0.9520 - val_loss: 0.6162 - val_acc: 0.8348\n",
            "Epoch 18/20\n",
            "6000/6000 [==============================] - 10s 2ms/step - loss: 0.1277 - acc: 0.9508 - val_loss: 0.5751 - val_acc: 0.8555\n",
            "Epoch 19/20\n",
            "6000/6000 [==============================] - 10s 2ms/step - loss: 0.0954 - acc: 0.9668 - val_loss: 0.5514 - val_acc: 0.8604\n",
            "Epoch 20/20\n",
            "6000/6000 [==============================] - 10s 2ms/step - loss: 0.0683 - acc: 0.9755 - val_loss: 0.6432 - val_acc: 0.8594\n"
          ],
          "name": "stdout"
        }
      ]
    },
    {
      "metadata": {
        "id": "JpZzDDuT-a2k",
        "colab_type": "code",
        "outputId": "b94cc9aa-4746-411e-c5ab-776a26cf8631",
        "colab": {
          "base_uri": "https://localhost:8080/",
          "height": 280
        }
      },
      "cell_type": "code",
      "source": [
        "# Plot history\n",
        "plt.figure(figsize=(15,4))\n",
        "\n",
        "plt.subplot(1,2,1)\n",
        "plt.plot(history.history['loss'])\n",
        "plt.plot(history.history['val_loss'])\n",
        "plt.title('Loss')\n",
        "plt.ylabel('Epochs')\n",
        "plt.legend(['Training','Validation'])\n",
        "\n",
        "plt.subplot(1,2,2)\n",
        "plt.plot(history.history['acc'])\n",
        "plt.plot(history.history['val_acc'])\n",
        "plt.title('Accuracy')\n",
        "plt.ylabel('Epochs')\n",
        "plt.legend(['Training','Validation'])\n",
        "\n",
        "plt.show()"
      ],
      "execution_count": 0,
      "outputs": [
        {
          "output_type": "display_data",
          "data": {
            "image/png": "[encoded data removed]",
            "text/plain": [
              "<matplotlib.figure.Figure at 0x7fb9f5bec160>"
            ]
          },
          "metadata": {
            "tags": []
          }
        }
      ]
    },
    {
      "metadata": {
        "id": "TC1BFUWhL-60",
        "colab_type": "code",
        "colab": {}
      },
      "cell_type": "code",
      "source": [
        "# Save training history\n",
        "import pickle\n",
        "\n",
        "SAVE_HISTORY = True\n",
        "MODEL_NAME = 'fashionMnist_CNN_simpleFF_20Epochs'\n",
        "\n",
        "\n",
        "if SAVE_HISTORY:\n",
        "  pickle.dump( history, open('%s_history.pickle'%MODEL_NAME, 'wb') )\n",
        "\n"
      ],
      "execution_count": 0,
      "outputs": []
    },
    {
      "metadata": {
        "id": "BBj63zjqGCWy",
        "colab_type": "code",
        "colab": {}
      },
      "cell_type": "code",
      "source": [
        ""
      ],
      "execution_count": 0,
      "outputs": []
    }
  ]
}