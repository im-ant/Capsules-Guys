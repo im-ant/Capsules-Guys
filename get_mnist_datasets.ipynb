{
 "cells": [
  {
   "cell_type": "markdown",
   "metadata": {},
   "source": [
    "# Acquiring Data\n",
    "### Download data and pre-process"
   ]
  },
  {
   "cell_type": "code",
   "execution_count": 2,
   "metadata": {},
   "outputs": [],
   "source": [
    "import numpy as np\n",
    "import matplotlib.pyplot as plt\n",
    "from keras.datasets import mnist"
   ]
  },
  {
   "cell_type": "markdown",
   "metadata": {},
   "source": [
    "## Helper functions"
   ]
  },
  {
   "cell_type": "code",
   "execution_count": 3,
   "metadata": {
    "collapsed": true
   },
   "outputs": [],
   "source": [
    "### Normlize features ###\n",
    "# Assume features are numpy matrices between 0-255\n",
    "def scaleFeatures(X_train, X_test):\n",
    "    X_train = X_train / 255\n",
    "    X_test = X_test / 255\n",
    "    \n",
    "    return X_train, X_test\n",
    "\n",
    "\n",
    "### One-hot encode integer labels ###\n",
    "# Assumes that the integer label correspond to the vector\n",
    "# element index in the one-hot-encoded representation\n",
    "def oneHotEncode(y_train_int, y_test_int):\n",
    "    # initialize encoder\n",
    "    num_classes = len(set(y_train_int))\n",
    "    \n",
    "    # Initialize output matrices\n",
    "    y_train = np.zeros((len(y_train_int),num_classes))\n",
    "    y_test = np.zeros((len(y_test_int),num_classes))\n",
    "        \n",
    "    # One hot encode training labels\n",
    "    for i, labIdx in enumerate(y_train_int):\n",
    "        y_train[i,labIdx] = 1\n",
    "    \n",
    "    # One hot encode the testing labels\n",
    "    for i, labIdx in enumerate(y_test_int):\n",
    "        y_test[i,labIdx] = 1\n",
    "    \n",
    "    return y_train, y_test"
   ]
  },
  {
   "cell_type": "markdown",
   "metadata": {},
   "source": [
    "## Download mnist dataset"
   ]
  },
  {
   "cell_type": "code",
   "execution_count": 4,
   "metadata": {},
   "outputs": [
    {
     "name": "stdout",
     "output_type": "stream",
     "text": [
      "(60000, 28, 28)\n",
      "(60000,)\n",
      "(10000, 28, 28)\n",
      "(10000,)\n"
     ]
    }
   ],
   "source": [
    "(x_train, y_train_int), (x_test, y_test_int) = mnist.load_data()\n",
    "\n",
    "print(np.shape(x_train))\n",
    "print(np.shape(y_train_int))\n",
    "print(np.shape(x_test))\n",
    "print(np.shape(y_test_int))"
   ]
  },
  {
   "cell_type": "markdown",
   "metadata": {},
   "source": [
    "#### Scale the features"
   ]
  },
  {
   "cell_type": "code",
   "execution_count": 5,
   "metadata": {},
   "outputs": [
    {
     "name": "stdout",
     "output_type": "stream",
     "text": [
      "0.0 1.0\n",
      "0.0 1.0\n"
     ]
    }
   ],
   "source": [
    "# Initial max and min\n",
    "X_train, X_test = scaleFeatures(x_train, x_test)\n",
    "\n",
    "print(np.min(X_train), np.max(X_train))\n",
    "print(np.min(X_test), np.max(X_test))"
   ]
  },
  {
   "cell_type": "markdown",
   "metadata": {},
   "source": [
    "#### One-hot encode the labels"
   ]
  },
  {
   "cell_type": "code",
   "execution_count": 6,
   "metadata": {},
   "outputs": [
    {
     "name": "stdout",
     "output_type": "stream",
     "text": [
      "(60000, 10)\n",
      "(10000, 10)\n"
     ]
    }
   ],
   "source": [
    "y_train, y_test = oneHotEncode(y_train_int, y_test_int)\n",
    "print(np.shape(y_train))\n",
    "print(np.shape(y_test))"
   ]
  },
  {
   "cell_type": "code",
   "execution_count": 7,
   "metadata": {},
   "outputs": [
    {
     "name": "stdout",
     "output_type": "stream",
     "text": [
      "Saved to: /Users/anthony/Documents/Comp551_Projects/CapNET/data/mnistData.npz\n"
     ]
    }
   ],
   "source": [
    "SAVE_DATA = False\n",
    "# Change this to whereever you want to save the data to\n",
    "SAVE_PATH = \"/Users/anthony/Documents/Comp551_Projects/CapNET/data/mnistData.npz\"\n",
    "\n",
    "if SAVE_DATA:\n",
    "    np.savez(SAVE_PATH,\n",
    "             X_train = X_train, y_train = y_train,\n",
    "             X_test = X_test, y_test = y_test\n",
    "            )\n",
    "    print(\"Saved to: %s\" % SAVE_PATH)\n",
    "\n",
    "del SAVE_DATA, SAVE_PATH"
   ]
  },
  {
   "cell_type": "code",
   "execution_count": 8,
   "metadata": {},
   "outputs": [],
   "source": [
    "del x_train, y_train_int, x_test, y_test_int\n",
    "del X_train, X_test, y_train, y_test"
   ]
  },
  {
   "cell_type": "markdown",
   "metadata": {},
   "source": [
    "## Download fashion-mnist dataset"
   ]
  },
  {
   "cell_type": "code",
   "execution_count": 10,
   "metadata": {},
   "outputs": [
    {
     "name": "stdout",
     "output_type": "stream",
     "text": [
      "(60000, 28, 28)\n",
      "(60000,)\n",
      "(10000, 28, 28)\n",
      "(10000,)\n"
     ]
    }
   ],
   "source": [
    "from keras.datasets import fashion_mnist\n",
    "\n",
    "(x_train, y_train_int), (x_test, y_test_int) = fashion_mnist.load_data()\n",
    "\n",
    "print(np.shape(x_train))\n",
    "print(np.shape(y_train_int))\n",
    "print(np.shape(x_test))\n",
    "print(np.shape(y_test_int))"
   ]
  },
  {
   "cell_type": "markdown",
   "metadata": {},
   "source": [
    "#### Scale the features"
   ]
  },
  {
   "cell_type": "code",
   "execution_count": 11,
   "metadata": {},
   "outputs": [
    {
     "name": "stdout",
     "output_type": "stream",
     "text": [
      "0.0 1.0\n",
      "0.0 1.0\n"
     ]
    }
   ],
   "source": [
    "# Initial max and min\n",
    "X_train, X_test = scaleFeatures(x_train, x_test)\n",
    "\n",
    "print(np.min(X_train), np.max(X_train))\n",
    "print(np.min(X_test), np.max(X_test))"
   ]
  },
  {
   "cell_type": "markdown",
   "metadata": {},
   "source": [
    "#### One-hot encode the labels"
   ]
  },
  {
   "cell_type": "code",
   "execution_count": 12,
   "metadata": {},
   "outputs": [
    {
     "name": "stdout",
     "output_type": "stream",
     "text": [
      "(60000, 10)\n",
      "(10000, 10)\n"
     ]
    }
   ],
   "source": [
    "y_train, y_test = oneHotEncode(y_train_int, y_test_int)\n",
    "print(np.shape(y_train))\n",
    "print(np.shape(y_test))"
   ]
  },
  {
   "cell_type": "code",
   "execution_count": 13,
   "metadata": {},
   "outputs": [
    {
     "name": "stdout",
     "output_type": "stream",
     "text": [
      "Saved to: /Users/anthony/Documents/Comp551_Projects/CapNET/data/fashion_mnist_Data.npz\n"
     ]
    }
   ],
   "source": [
    "SAVE_DATA = False\n",
    "# Change this to whereever you want to save the data to\n",
    "SAVE_PATH = \"/Users/anthony/Documents/Comp551_Projects/CapNET/data/fashion_mnist_Data.npz\"\n",
    "\n",
    "if SAVE_DATA:\n",
    "    np.savez(SAVE_PATH,\n",
    "             X_train = x_train, y_train = y_train,\n",
    "             X_test = x_test, y_test = y_test\n",
    "            )\n",
    "    print(\"Saved to: %s\" % SAVE_PATH)\n",
    "\n",
    "del SAVE_DATA, SAVE_PATH"
   ]
  },
  {
   "cell_type": "code",
   "execution_count": null,
   "metadata": {
    "collapsed": true
   },
   "outputs": [],
   "source": []
  },
  {
   "cell_type": "code",
   "execution_count": null,
   "metadata": {
    "collapsed": true
   },
   "outputs": [],
   "source": []
  },
  {
   "cell_type": "code",
   "execution_count": null,
   "metadata": {
    "collapsed": true
   },
   "outputs": [],
   "source": []
  },
  {
   "cell_type": "code",
   "execution_count": null,
   "metadata": {
    "collapsed": true
   },
   "outputs": [],
   "source": []
  }
 ],
 "metadata": {
  "kernelspec": {
   "display_name": "Python 3",
   "language": "python",
   "name": "python3"
  },
  "language_info": {
   "codemirror_mode": {
    "name": "ipython",
    "version": 3
   },
   "file_extension": ".py",
   "mimetype": "text/x-python",
   "name": "python",
   "nbconvert_exporter": "python",
   "pygments_lexer": "ipython3",
   "version": "3.6.5"
  }
 },
 "nbformat": 4,
 "nbformat_minor": 2
}
